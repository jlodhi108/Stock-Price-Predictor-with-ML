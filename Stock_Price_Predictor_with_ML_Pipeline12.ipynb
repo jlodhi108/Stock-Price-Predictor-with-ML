{
  "nbformat": 4,
  "nbformat_minor": 0,
  "metadata": {
    "colab": {
      "provenance": [],
      "include_colab_link": true
    },
    "kernelspec": {
      "name": "python3",
      "display_name": "Python 3"
    },
    "language_info": {
      "name": "python"
    }
  },
  "cells": [
    {
      "cell_type": "markdown",
      "metadata": {
        "id": "view-in-github",
        "colab_type": "text"
      },
      "source": [
        "<a href=\"https://colab.research.google.com/github/jlodhi108/Stock-Price-Predictor-with-ML/blob/main/Stock_Price_Predictor_with_ML_Pipeline12.ipynb\" target=\"_parent\"><img src=\"https://colab.research.google.com/assets/colab-badge.svg\" alt=\"Open In Colab\"/></a>"
      ]
    },
    {
      "cell_type": "code",
      "source": [
        "!pip install pandas-datareader==0.10.0"
      ],
      "metadata": {
        "colab": {
          "base_uri": "https://localhost:8080/"
        },
        "id": "zc2v3KuikPn3",
        "outputId": "35a27e87-d63a-4f9e-f586-86592e5de545"
      },
      "execution_count": 2,
      "outputs": [
        {
          "output_type": "stream",
          "name": "stdout",
          "text": [
            "Collecting pandas-datareader==0.10.0\n",
            "  Using cached pandas_datareader-0.10.0-py3-none-any.whl.metadata (2.9 kB)\n",
            "Requirement already satisfied: lxml in /usr/local/lib/python3.11/dist-packages (from pandas-datareader==0.10.0) (5.3.1)\n",
            "Requirement already satisfied: pandas>=0.23 in /usr/local/lib/python3.11/dist-packages (from pandas-datareader==0.10.0) (1.5.3)\n",
            "Requirement already satisfied: requests>=2.19.0 in /usr/local/lib/python3.11/dist-packages (from pandas-datareader==0.10.0) (2.32.3)\n",
            "Requirement already satisfied: python-dateutil>=2.8.1 in /usr/local/lib/python3.11/dist-packages (from pandas>=0.23->pandas-datareader==0.10.0) (2.8.2)\n",
            "Requirement already satisfied: pytz>=2020.1 in /usr/local/lib/python3.11/dist-packages (from pandas>=0.23->pandas-datareader==0.10.0) (2025.2)\n",
            "Requirement already satisfied: numpy>=1.21.0 in /usr/local/lib/python3.11/dist-packages (from pandas>=0.23->pandas-datareader==0.10.0) (1.25.2)\n",
            "Requirement already satisfied: charset-normalizer<4,>=2 in /usr/local/lib/python3.11/dist-packages (from requests>=2.19.0->pandas-datareader==0.10.0) (3.4.1)\n",
            "Requirement already satisfied: idna<4,>=2.5 in /usr/local/lib/python3.11/dist-packages (from requests>=2.19.0->pandas-datareader==0.10.0) (3.10)\n",
            "Requirement already satisfied: urllib3<3,>=1.21.1 in /usr/local/lib/python3.11/dist-packages (from requests>=2.19.0->pandas-datareader==0.10.0) (2.3.0)\n",
            "Requirement already satisfied: certifi>=2017.4.17 in /usr/local/lib/python3.11/dist-packages (from requests>=2.19.0->pandas-datareader==0.10.0) (2025.1.31)\n",
            "Requirement already satisfied: six>=1.5 in /usr/local/lib/python3.11/dist-packages (from python-dateutil>=2.8.1->pandas>=0.23->pandas-datareader==0.10.0) (1.17.0)\n",
            "Using cached pandas_datareader-0.10.0-py3-none-any.whl (109 kB)\n",
            "Installing collected packages: pandas-datareader\n",
            "Successfully installed pandas-datareader-0.10.0\n"
          ]
        }
      ]
    },
    {
      "cell_type": "code",
      "source": [
        "!pip uninstall -y pandas\n",
        "!pip uninstall -y numpy\n",
        "!pip uninstall -y pandas_datareader\n",
        "!pip install pandas==1.5.3\n",
        "!pip install numpy==1.25.2  # Install a compatible numpy version\n",
        "!pip install pandas-datareader==0.10.0"
      ],
      "metadata": {
        "colab": {
          "base_uri": "https://localhost:8080/",
          "height": 1000
        },
        "collapsed": true,
        "id": "upJs_cAs1zPC",
        "outputId": "a2c31869-d7c6-42ee-e84a-6a9898003718"
      },
      "execution_count": 3,
      "outputs": [
        {
          "output_type": "stream",
          "name": "stdout",
          "text": [
            "Found existing installation: pandas 1.5.3\n",
            "Uninstalling pandas-1.5.3:\n",
            "  Successfully uninstalled pandas-1.5.3\n",
            "Found existing installation: numpy 1.25.2\n",
            "Uninstalling numpy-1.25.2:\n",
            "  Successfully uninstalled numpy-1.25.2\n",
            "\u001b[33mWARNING: Skipping pandas_datareader as it is not installed.\u001b[0m\u001b[33m\n",
            "\u001b[0mCollecting pandas==1.5.3\n",
            "  Using cached pandas-1.5.3-cp311-cp311-manylinux_2_17_x86_64.manylinux2014_x86_64.whl.metadata (11 kB)\n",
            "Requirement already satisfied: python-dateutil>=2.8.1 in /usr/local/lib/python3.11/dist-packages (from pandas==1.5.3) (2.8.2)\n",
            "Requirement already satisfied: pytz>=2020.1 in /usr/local/lib/python3.11/dist-packages (from pandas==1.5.3) (2025.2)\n",
            "Collecting numpy>=1.21.0 (from pandas==1.5.3)\n",
            "  Using cached numpy-2.2.4-cp311-cp311-manylinux_2_17_x86_64.manylinux2014_x86_64.whl.metadata (62 kB)\n",
            "Requirement already satisfied: six>=1.5 in /usr/local/lib/python3.11/dist-packages (from python-dateutil>=2.8.1->pandas==1.5.3) (1.17.0)\n",
            "Using cached pandas-1.5.3-cp311-cp311-manylinux_2_17_x86_64.manylinux2014_x86_64.whl (12.0 MB)\n",
            "Using cached numpy-2.2.4-cp311-cp311-manylinux_2_17_x86_64.manylinux2014_x86_64.whl (16.4 MB)\n",
            "Installing collected packages: numpy, pandas\n",
            "\u001b[31mERROR: pip's dependency resolver does not currently take into account all the packages that are installed. This behaviour is the source of the following dependency conflicts.\n",
            "google-colab 1.0.0 requires pandas==2.2.2, but you have pandas 1.5.3 which is incompatible.\n",
            "cudf-cu12 25.2.1 requires pandas<2.2.4dev0,>=2.0, but you have pandas 1.5.3 which is incompatible.\n",
            "dask-expr 1.1.21 requires pandas>=2, but you have pandas 1.5.3 which is incompatible.\n",
            "tensorflow 2.18.0 requires numpy<2.1.0,>=1.26.0, but you have numpy 2.2.4 which is incompatible.\n",
            "mizani 0.13.2 requires pandas>=2.2.0, but you have pandas 1.5.3 which is incompatible.\n",
            "dask-cudf-cu12 25.2.2 requires pandas<2.2.4dev0,>=2.0, but you have pandas 1.5.3 which is incompatible.\n",
            "plotnine 0.14.5 requires pandas>=2.2.0, but you have pandas 1.5.3 which is incompatible.\n",
            "xarray 2025.1.2 requires pandas>=2.1, but you have pandas 1.5.3 which is incompatible.\n",
            "numba 0.60.0 requires numpy<2.1,>=1.22, but you have numpy 2.2.4 which is incompatible.\u001b[0m\u001b[31m\n",
            "\u001b[0mSuccessfully installed numpy-2.2.4 pandas-1.5.3\n",
            "Collecting numpy==1.25.2\n",
            "  Using cached numpy-1.25.2-cp311-cp311-manylinux_2_17_x86_64.manylinux2014_x86_64.whl.metadata (5.6 kB)\n",
            "Using cached numpy-1.25.2-cp311-cp311-manylinux_2_17_x86_64.manylinux2014_x86_64.whl (18.2 MB)\n",
            "Installing collected packages: numpy\n",
            "  Attempting uninstall: numpy\n",
            "    Found existing installation: numpy 2.2.4\n",
            "    Uninstalling numpy-2.2.4:\n",
            "      Successfully uninstalled numpy-2.2.4\n",
            "\u001b[31mERROR: pip's dependency resolver does not currently take into account all the packages that are installed. This behaviour is the source of the following dependency conflicts.\n",
            "google-colab 1.0.0 requires pandas==2.2.2, but you have pandas 1.5.3 which is incompatible.\n",
            "blosc2 3.2.1 requires numpy>=1.26, but you have numpy 1.25.2 which is incompatible.\n",
            "cudf-cu12 25.2.1 requires pandas<2.2.4dev0,>=2.0, but you have pandas 1.5.3 which is incompatible.\n",
            "thinc 8.3.6 requires numpy<3.0.0,>=2.0.0, but you have numpy 1.25.2 which is incompatible.\n",
            "dask-expr 1.1.21 requires pandas>=2, but you have pandas 1.5.3 which is incompatible.\n",
            "tensorflow 2.18.0 requires numpy<2.1.0,>=1.26.0, but you have numpy 1.25.2 which is incompatible.\n",
            "mizani 0.13.2 requires pandas>=2.2.0, but you have pandas 1.5.3 which is incompatible.\n",
            "dask-cudf-cu12 25.2.2 requires pandas<2.2.4dev0,>=2.0, but you have pandas 1.5.3 which is incompatible.\n",
            "plotnine 0.14.5 requires pandas>=2.2.0, but you have pandas 1.5.3 which is incompatible.\n",
            "xarray 2025.1.2 requires pandas>=2.1, but you have pandas 1.5.3 which is incompatible.\u001b[0m\u001b[31m\n",
            "\u001b[0mSuccessfully installed numpy-1.25.2\n"
          ]
        },
        {
          "output_type": "display_data",
          "data": {
            "application/vnd.colab-display-data+json": {
              "pip_warning": {
                "packages": [
                  "numpy"
                ]
              },
              "id": "9c6676eeb1a540a7bf0aff630ff1f78e"
            }
          },
          "metadata": {}
        },
        {
          "output_type": "stream",
          "name": "stdout",
          "text": [
            "Collecting pandas-datareader==0.10.0\n",
            "  Using cached pandas_datareader-0.10.0-py3-none-any.whl.metadata (2.9 kB)\n",
            "Requirement already satisfied: lxml in /usr/local/lib/python3.11/dist-packages (from pandas-datareader==0.10.0) (5.3.1)\n",
            "Requirement already satisfied: pandas>=0.23 in /usr/local/lib/python3.11/dist-packages (from pandas-datareader==0.10.0) (1.5.3)\n",
            "Requirement already satisfied: requests>=2.19.0 in /usr/local/lib/python3.11/dist-packages (from pandas-datareader==0.10.0) (2.32.3)\n",
            "Requirement already satisfied: python-dateutil>=2.8.1 in /usr/local/lib/python3.11/dist-packages (from pandas>=0.23->pandas-datareader==0.10.0) (2.8.2)\n",
            "Requirement already satisfied: pytz>=2020.1 in /usr/local/lib/python3.11/dist-packages (from pandas>=0.23->pandas-datareader==0.10.0) (2025.2)\n",
            "Requirement already satisfied: numpy>=1.21.0 in /usr/local/lib/python3.11/dist-packages (from pandas>=0.23->pandas-datareader==0.10.0) (1.25.2)\n",
            "Requirement already satisfied: charset-normalizer<4,>=2 in /usr/local/lib/python3.11/dist-packages (from requests>=2.19.0->pandas-datareader==0.10.0) (3.4.1)\n",
            "Requirement already satisfied: idna<4,>=2.5 in /usr/local/lib/python3.11/dist-packages (from requests>=2.19.0->pandas-datareader==0.10.0) (3.10)\n",
            "Requirement already satisfied: urllib3<3,>=1.21.1 in /usr/local/lib/python3.11/dist-packages (from requests>=2.19.0->pandas-datareader==0.10.0) (2.3.0)\n",
            "Requirement already satisfied: certifi>=2017.4.17 in /usr/local/lib/python3.11/dist-packages (from requests>=2.19.0->pandas-datareader==0.10.0) (2025.1.31)\n",
            "Requirement already satisfied: six>=1.5 in /usr/local/lib/python3.11/dist-packages (from python-dateutil>=2.8.1->pandas>=0.23->pandas-datareader==0.10.0) (1.17.0)\n",
            "Using cached pandas_datareader-0.10.0-py3-none-any.whl (109 kB)\n",
            "Traceback (most recent call last):\n",
            "  File \"/usr/local/lib/python3.11/dist-packages/pip/_internal/cli/base_command.py\", line 179, in exc_logging_wrapper\n",
            "    status = run_func(*args)\n",
            "             ^^^^^^^^^^^^^^^\n",
            "  File \"/usr/local/lib/python3.11/dist-packages/pip/_internal/cli/req_command.py\", line 67, in wrapper\n",
            "    return func(self, options, args)\n",
            "           ^^^^^^^^^^^^^^^^^^^^^^^^^\n",
            "  File \"/usr/local/lib/python3.11/dist-packages/pip/_internal/commands/install.py\", line 447, in run\n",
            "    conflicts = self._determine_conflicts(to_install)\n",
            "                ^^^^^^^^^^^^^^^^^^^^^^^^^^^^^^^^^^^^^\n",
            "  File \"/usr/local/lib/python3.11/dist-packages/pip/_internal/commands/install.py\", line 578, in _determine_conflicts\n",
            "    return check_install_conflicts(to_install)\n",
            "           ^^^^^^^^^^^^^^^^^^^^^^^^^^^^^^^^^^^\n",
            "  File \"/usr/local/lib/python3.11/dist-packages/pip/_internal/operations/check.py\", line 101, in check_install_conflicts\n",
            "^C\n"
          ]
        }
      ]
    },
    {
      "cell_type": "code",
      "source": [
        "import pandas_datareader as pdr\n",
        "key = \"e5de52dfa4ea3d45ab0946888ef947bbe064133e\"\n",
        "df=pdr.get_data_tiingo('AAPL', api_key=key)"
      ],
      "metadata": {
        "colab": {
          "base_uri": "https://localhost:8080/"
        },
        "id": "W2NwRyFe1BEg",
        "outputId": "817b92ea-12fb-4ab1-98a1-0113d504ee2d"
      },
      "execution_count": 3,
      "outputs": [
        {
          "output_type": "stream",
          "name": "stderr",
          "text": [
            "<ipython-input-3-1d6cb530eb16>:3: FutureWarning: In a future version of pandas all arguments of concat except for the argument 'objs' will be keyword-only.\n",
            "  df=pdr.get_data_tiingo('AAPL', api_key=key)\n"
          ]
        }
      ]
    },
    {
      "cell_type": "code",
      "source": [
        "df.to_csv('AAPL.csv')"
      ],
      "metadata": {
        "id": "o1AlOVPy2bJa"
      },
      "execution_count": 4,
      "outputs": []
    },
    {
      "cell_type": "code",
      "source": [
        "import pandas as pd\n",
        "df=pd.read_csv('AAPL.csv')"
      ],
      "metadata": {
        "id": "WgkZngVt2oYR"
      },
      "execution_count": 5,
      "outputs": []
    },
    {
      "cell_type": "code",
      "source": [
        "df.head()"
      ],
      "metadata": {
        "colab": {
          "base_uri": "https://localhost:8080/",
          "height": 293
        },
        "id": "S77lRFcu3jD_",
        "outputId": "c7f5c450-ac2e-4060-8912-79bb227d39b0"
      },
      "execution_count": 6,
      "outputs": [
        {
          "output_type": "execute_result",
          "data": {
            "text/plain": [
              "  symbol                       date   close    high     low    open    volume  \\\n",
              "0   AAPL  2020-04-14 00:00:00+00:00  287.05  288.25  278.05  280.00  48748672   \n",
              "1   AAPL  2020-04-15 00:00:00+00:00  284.43  286.33  280.63  282.40  32788641   \n",
              "2   AAPL  2020-04-16 00:00:00+00:00  286.69  288.20  282.35  287.38  39281290   \n",
              "3   AAPL  2020-04-17 00:00:00+00:00  282.80  286.95  276.86  284.69  53812478   \n",
              "4   AAPL  2020-04-20 00:00:00+00:00  276.93  281.68  276.85  277.95  32503750   \n",
              "\n",
              "    adjClose    adjHigh     adjLow    adjOpen  adjVolume  divCash  splitFactor  \n",
              "0  69.664599  69.955829  67.480375  67.953624  194994688      0.0          1.0  \n",
              "1  69.028747  69.489861  68.106520  68.536084  131154564      0.0          1.0  \n",
              "2  69.577230  69.943694  68.523949  69.744687  157125160      0.0          1.0  \n",
              "3  68.633160  69.640330  67.191573  69.091847  215249912      0.0          1.0  \n",
              "4  67.208561  68.361346  67.189146  67.456106  130015000      0.0          1.0  "
            ],
            "text/html": [
              "\n",
              "  <div id=\"df-878f76d4-25dc-4253-a576-a0c4284c9da6\" class=\"colab-df-container\">\n",
              "    <div>\n",
              "<style scoped>\n",
              "    .dataframe tbody tr th:only-of-type {\n",
              "        vertical-align: middle;\n",
              "    }\n",
              "\n",
              "    .dataframe tbody tr th {\n",
              "        vertical-align: top;\n",
              "    }\n",
              "\n",
              "    .dataframe thead th {\n",
              "        text-align: right;\n",
              "    }\n",
              "</style>\n",
              "<table border=\"1\" class=\"dataframe\">\n",
              "  <thead>\n",
              "    <tr style=\"text-align: right;\">\n",
              "      <th></th>\n",
              "      <th>symbol</th>\n",
              "      <th>date</th>\n",
              "      <th>close</th>\n",
              "      <th>high</th>\n",
              "      <th>low</th>\n",
              "      <th>open</th>\n",
              "      <th>volume</th>\n",
              "      <th>adjClose</th>\n",
              "      <th>adjHigh</th>\n",
              "      <th>adjLow</th>\n",
              "      <th>adjOpen</th>\n",
              "      <th>adjVolume</th>\n",
              "      <th>divCash</th>\n",
              "      <th>splitFactor</th>\n",
              "    </tr>\n",
              "  </thead>\n",
              "  <tbody>\n",
              "    <tr>\n",
              "      <th>0</th>\n",
              "      <td>AAPL</td>\n",
              "      <td>2020-04-14 00:00:00+00:00</td>\n",
              "      <td>287.05</td>\n",
              "      <td>288.25</td>\n",
              "      <td>278.05</td>\n",
              "      <td>280.00</td>\n",
              "      <td>48748672</td>\n",
              "      <td>69.664599</td>\n",
              "      <td>69.955829</td>\n",
              "      <td>67.480375</td>\n",
              "      <td>67.953624</td>\n",
              "      <td>194994688</td>\n",
              "      <td>0.0</td>\n",
              "      <td>1.0</td>\n",
              "    </tr>\n",
              "    <tr>\n",
              "      <th>1</th>\n",
              "      <td>AAPL</td>\n",
              "      <td>2020-04-15 00:00:00+00:00</td>\n",
              "      <td>284.43</td>\n",
              "      <td>286.33</td>\n",
              "      <td>280.63</td>\n",
              "      <td>282.40</td>\n",
              "      <td>32788641</td>\n",
              "      <td>69.028747</td>\n",
              "      <td>69.489861</td>\n",
              "      <td>68.106520</td>\n",
              "      <td>68.536084</td>\n",
              "      <td>131154564</td>\n",
              "      <td>0.0</td>\n",
              "      <td>1.0</td>\n",
              "    </tr>\n",
              "    <tr>\n",
              "      <th>2</th>\n",
              "      <td>AAPL</td>\n",
              "      <td>2020-04-16 00:00:00+00:00</td>\n",
              "      <td>286.69</td>\n",
              "      <td>288.20</td>\n",
              "      <td>282.35</td>\n",
              "      <td>287.38</td>\n",
              "      <td>39281290</td>\n",
              "      <td>69.577230</td>\n",
              "      <td>69.943694</td>\n",
              "      <td>68.523949</td>\n",
              "      <td>69.744687</td>\n",
              "      <td>157125160</td>\n",
              "      <td>0.0</td>\n",
              "      <td>1.0</td>\n",
              "    </tr>\n",
              "    <tr>\n",
              "      <th>3</th>\n",
              "      <td>AAPL</td>\n",
              "      <td>2020-04-17 00:00:00+00:00</td>\n",
              "      <td>282.80</td>\n",
              "      <td>286.95</td>\n",
              "      <td>276.86</td>\n",
              "      <td>284.69</td>\n",
              "      <td>53812478</td>\n",
              "      <td>68.633160</td>\n",
              "      <td>69.640330</td>\n",
              "      <td>67.191573</td>\n",
              "      <td>69.091847</td>\n",
              "      <td>215249912</td>\n",
              "      <td>0.0</td>\n",
              "      <td>1.0</td>\n",
              "    </tr>\n",
              "    <tr>\n",
              "      <th>4</th>\n",
              "      <td>AAPL</td>\n",
              "      <td>2020-04-20 00:00:00+00:00</td>\n",
              "      <td>276.93</td>\n",
              "      <td>281.68</td>\n",
              "      <td>276.85</td>\n",
              "      <td>277.95</td>\n",
              "      <td>32503750</td>\n",
              "      <td>67.208561</td>\n",
              "      <td>68.361346</td>\n",
              "      <td>67.189146</td>\n",
              "      <td>67.456106</td>\n",
              "      <td>130015000</td>\n",
              "      <td>0.0</td>\n",
              "      <td>1.0</td>\n",
              "    </tr>\n",
              "  </tbody>\n",
              "</table>\n",
              "</div>\n",
              "    <div class=\"colab-df-buttons\">\n",
              "\n",
              "  <div class=\"colab-df-container\">\n",
              "    <button class=\"colab-df-convert\" onclick=\"convertToInteractive('df-878f76d4-25dc-4253-a576-a0c4284c9da6')\"\n",
              "            title=\"Convert this dataframe to an interactive table.\"\n",
              "            style=\"display:none;\">\n",
              "\n",
              "  <svg xmlns=\"http://www.w3.org/2000/svg\" height=\"24px\" viewBox=\"0 -960 960 960\">\n",
              "    <path d=\"M120-120v-720h720v720H120Zm60-500h600v-160H180v160Zm220 220h160v-160H400v160Zm0 220h160v-160H400v160ZM180-400h160v-160H180v160Zm440 0h160v-160H620v160ZM180-180h160v-160H180v160Zm440 0h160v-160H620v160Z\"/>\n",
              "  </svg>\n",
              "    </button>\n",
              "\n",
              "  <style>\n",
              "    .colab-df-container {\n",
              "      display:flex;\n",
              "      gap: 12px;\n",
              "    }\n",
              "\n",
              "    .colab-df-convert {\n",
              "      background-color: #E8F0FE;\n",
              "      border: none;\n",
              "      border-radius: 50%;\n",
              "      cursor: pointer;\n",
              "      display: none;\n",
              "      fill: #1967D2;\n",
              "      height: 32px;\n",
              "      padding: 0 0 0 0;\n",
              "      width: 32px;\n",
              "    }\n",
              "\n",
              "    .colab-df-convert:hover {\n",
              "      background-color: #E2EBFA;\n",
              "      box-shadow: 0px 1px 2px rgba(60, 64, 67, 0.3), 0px 1px 3px 1px rgba(60, 64, 67, 0.15);\n",
              "      fill: #174EA6;\n",
              "    }\n",
              "\n",
              "    .colab-df-buttons div {\n",
              "      margin-bottom: 4px;\n",
              "    }\n",
              "\n",
              "    [theme=dark] .colab-df-convert {\n",
              "      background-color: #3B4455;\n",
              "      fill: #D2E3FC;\n",
              "    }\n",
              "\n",
              "    [theme=dark] .colab-df-convert:hover {\n",
              "      background-color: #434B5C;\n",
              "      box-shadow: 0px 1px 3px 1px rgba(0, 0, 0, 0.15);\n",
              "      filter: drop-shadow(0px 1px 2px rgba(0, 0, 0, 0.3));\n",
              "      fill: #FFFFFF;\n",
              "    }\n",
              "  </style>\n",
              "\n",
              "    <script>\n",
              "      const buttonEl =\n",
              "        document.querySelector('#df-878f76d4-25dc-4253-a576-a0c4284c9da6 button.colab-df-convert');\n",
              "      buttonEl.style.display =\n",
              "        google.colab.kernel.accessAllowed ? 'block' : 'none';\n",
              "\n",
              "      async function convertToInteractive(key) {\n",
              "        const element = document.querySelector('#df-878f76d4-25dc-4253-a576-a0c4284c9da6');\n",
              "        const dataTable =\n",
              "          await google.colab.kernel.invokeFunction('convertToInteractive',\n",
              "                                                    [key], {});\n",
              "        if (!dataTable) return;\n",
              "\n",
              "        const docLinkHtml = 'Like what you see? Visit the ' +\n",
              "          '<a target=\"_blank\" href=https://colab.research.google.com/notebooks/data_table.ipynb>data table notebook</a>'\n",
              "          + ' to learn more about interactive tables.';\n",
              "        element.innerHTML = '';\n",
              "        dataTable['output_type'] = 'display_data';\n",
              "        await google.colab.output.renderOutput(dataTable, element);\n",
              "        const docLink = document.createElement('div');\n",
              "        docLink.innerHTML = docLinkHtml;\n",
              "        element.appendChild(docLink);\n",
              "      }\n",
              "    </script>\n",
              "  </div>\n",
              "\n",
              "\n",
              "<div id=\"df-527315ef-ebf7-432b-8a75-accce249bd66\">\n",
              "  <button class=\"colab-df-quickchart\" onclick=\"quickchart('df-527315ef-ebf7-432b-8a75-accce249bd66')\"\n",
              "            title=\"Suggest charts\"\n",
              "            style=\"display:none;\">\n",
              "\n",
              "<svg xmlns=\"http://www.w3.org/2000/svg\" height=\"24px\"viewBox=\"0 0 24 24\"\n",
              "     width=\"24px\">\n",
              "    <g>\n",
              "        <path d=\"M19 3H5c-1.1 0-2 .9-2 2v14c0 1.1.9 2 2 2h14c1.1 0 2-.9 2-2V5c0-1.1-.9-2-2-2zM9 17H7v-7h2v7zm4 0h-2V7h2v10zm4 0h-2v-4h2v4z\"/>\n",
              "    </g>\n",
              "</svg>\n",
              "  </button>\n",
              "\n",
              "<style>\n",
              "  .colab-df-quickchart {\n",
              "      --bg-color: #E8F0FE;\n",
              "      --fill-color: #1967D2;\n",
              "      --hover-bg-color: #E2EBFA;\n",
              "      --hover-fill-color: #174EA6;\n",
              "      --disabled-fill-color: #AAA;\n",
              "      --disabled-bg-color: #DDD;\n",
              "  }\n",
              "\n",
              "  [theme=dark] .colab-df-quickchart {\n",
              "      --bg-color: #3B4455;\n",
              "      --fill-color: #D2E3FC;\n",
              "      --hover-bg-color: #434B5C;\n",
              "      --hover-fill-color: #FFFFFF;\n",
              "      --disabled-bg-color: #3B4455;\n",
              "      --disabled-fill-color: #666;\n",
              "  }\n",
              "\n",
              "  .colab-df-quickchart {\n",
              "    background-color: var(--bg-color);\n",
              "    border: none;\n",
              "    border-radius: 50%;\n",
              "    cursor: pointer;\n",
              "    display: none;\n",
              "    fill: var(--fill-color);\n",
              "    height: 32px;\n",
              "    padding: 0;\n",
              "    width: 32px;\n",
              "  }\n",
              "\n",
              "  .colab-df-quickchart:hover {\n",
              "    background-color: var(--hover-bg-color);\n",
              "    box-shadow: 0 1px 2px rgba(60, 64, 67, 0.3), 0 1px 3px 1px rgba(60, 64, 67, 0.15);\n",
              "    fill: var(--button-hover-fill-color);\n",
              "  }\n",
              "\n",
              "  .colab-df-quickchart-complete:disabled,\n",
              "  .colab-df-quickchart-complete:disabled:hover {\n",
              "    background-color: var(--disabled-bg-color);\n",
              "    fill: var(--disabled-fill-color);\n",
              "    box-shadow: none;\n",
              "  }\n",
              "\n",
              "  .colab-df-spinner {\n",
              "    border: 2px solid var(--fill-color);\n",
              "    border-color: transparent;\n",
              "    border-bottom-color: var(--fill-color);\n",
              "    animation:\n",
              "      spin 1s steps(1) infinite;\n",
              "  }\n",
              "\n",
              "  @keyframes spin {\n",
              "    0% {\n",
              "      border-color: transparent;\n",
              "      border-bottom-color: var(--fill-color);\n",
              "      border-left-color: var(--fill-color);\n",
              "    }\n",
              "    20% {\n",
              "      border-color: transparent;\n",
              "      border-left-color: var(--fill-color);\n",
              "      border-top-color: var(--fill-color);\n",
              "    }\n",
              "    30% {\n",
              "      border-color: transparent;\n",
              "      border-left-color: var(--fill-color);\n",
              "      border-top-color: var(--fill-color);\n",
              "      border-right-color: var(--fill-color);\n",
              "    }\n",
              "    40% {\n",
              "      border-color: transparent;\n",
              "      border-right-color: var(--fill-color);\n",
              "      border-top-color: var(--fill-color);\n",
              "    }\n",
              "    60% {\n",
              "      border-color: transparent;\n",
              "      border-right-color: var(--fill-color);\n",
              "    }\n",
              "    80% {\n",
              "      border-color: transparent;\n",
              "      border-right-color: var(--fill-color);\n",
              "      border-bottom-color: var(--fill-color);\n",
              "    }\n",
              "    90% {\n",
              "      border-color: transparent;\n",
              "      border-bottom-color: var(--fill-color);\n",
              "    }\n",
              "  }\n",
              "</style>\n",
              "\n",
              "  <script>\n",
              "    async function quickchart(key) {\n",
              "      const quickchartButtonEl =\n",
              "        document.querySelector('#' + key + ' button');\n",
              "      quickchartButtonEl.disabled = true;  // To prevent multiple clicks.\n",
              "      quickchartButtonEl.classList.add('colab-df-spinner');\n",
              "      try {\n",
              "        const charts = await google.colab.kernel.invokeFunction(\n",
              "            'suggestCharts', [key], {});\n",
              "      } catch (error) {\n",
              "        console.error('Error during call to suggestCharts:', error);\n",
              "      }\n",
              "      quickchartButtonEl.classList.remove('colab-df-spinner');\n",
              "      quickchartButtonEl.classList.add('colab-df-quickchart-complete');\n",
              "    }\n",
              "    (() => {\n",
              "      let quickchartButtonEl =\n",
              "        document.querySelector('#df-527315ef-ebf7-432b-8a75-accce249bd66 button');\n",
              "      quickchartButtonEl.style.display =\n",
              "        google.colab.kernel.accessAllowed ? 'block' : 'none';\n",
              "    })();\n",
              "  </script>\n",
              "</div>\n",
              "\n",
              "    </div>\n",
              "  </div>\n"
            ],
            "application/vnd.google.colaboratory.intrinsic+json": {
              "type": "dataframe",
              "variable_name": "df",
              "summary": "{\n  \"name\": \"df\",\n  \"rows\": 1257,\n  \"fields\": [\n    {\n      \"column\": \"symbol\",\n      \"properties\": {\n        \"dtype\": \"category\",\n        \"num_unique_values\": 1,\n        \"samples\": [\n          \"AAPL\"\n        ],\n        \"semantic_type\": \"\",\n        \"description\": \"\"\n      }\n    },\n    {\n      \"column\": \"date\",\n      \"properties\": {\n        \"dtype\": \"object\",\n        \"num_unique_values\": 1257,\n        \"samples\": [\n          \"2022-01-03 00:00:00+00:00\"\n        ],\n        \"semantic_type\": \"\",\n        \"description\": \"\"\n      }\n    },\n    {\n      \"column\": \"close\",\n      \"properties\": {\n        \"dtype\": \"number\",\n        \"std\": 64.34328809668503,\n        \"min\": 106.84,\n        \"max\": 506.09,\n        \"num_unique_values\": 1191,\n        \"samples\": [\n          169.38\n        ],\n        \"semantic_type\": \"\",\n        \"description\": \"\"\n      }\n    },\n    {\n      \"column\": \"high\",\n      \"properties\": {\n        \"dtype\": \"number\",\n        \"std\": 64.91023875006218,\n        \"min\": 110.19,\n        \"max\": 515.14,\n        \"num_unique_values\": 1211,\n        \"samples\": [\n          118.99\n        ],\n        \"semantic_type\": \"\",\n        \"description\": \"\"\n      }\n    },\n    {\n      \"column\": \"low\",\n      \"properties\": {\n        \"dtype\": \"number\",\n        \"std\": 63.468704646933034,\n        \"min\": 103.1,\n        \"max\": 500.33,\n        \"num_unique_values\": 1220,\n        \"samples\": [\n          135.63\n        ],\n        \"semantic_type\": \"\",\n        \"description\": \"\"\n      }\n    },\n    {\n      \"column\": \"open\",\n      \"properties\": {\n        \"dtype\": \"number\",\n        \"std\": 64.12825607832768,\n        \"min\": 104.54,\n        \"max\": 514.79,\n        \"num_unique_values\": 1201,\n        \"samples\": [\n          128.95\n        ],\n        \"semantic_type\": \"\",\n        \"description\": \"\"\n      }\n    },\n    {\n      \"column\": \"volume\",\n      \"properties\": {\n        \"dtype\": \"number\",\n        \"std\": 36515689,\n        \"min\": 20254653,\n        \"max\": 332607163,\n        \"num_unique_values\": 1257,\n        \"samples\": [\n          104701220\n        ],\n        \"semantic_type\": \"\",\n        \"description\": \"\"\n      }\n    },\n    {\n      \"column\": \"adjClose\",\n      \"properties\": {\n        \"dtype\": \"number\",\n        \"std\": 40.52776038003725,\n        \"min\": 65.1311215849,\n        \"max\": 258.7358622203,\n        \"num_unique_values\": 1242,\n        \"samples\": [\n          188.6580748125\n        ],\n        \"semantic_type\": \"\",\n        \"description\": \"\"\n      }\n    },\n    {\n      \"column\": \"adjHigh\",\n      \"properties\": {\n        \"dtype\": \"number\",\n        \"std\": 40.748798421302546,\n        \"min\": 67.2862222283,\n        \"max\": 259.8146774901,\n        \"num_unique_values\": 1245,\n        \"samples\": [\n          158.7434084514\n        ],\n        \"semantic_type\": \"\",\n        \"description\": \"\"\n      }\n    },\n    {\n      \"column\": \"adjLow\",\n      \"properties\": {\n        \"dtype\": \"number\",\n        \"std\": 40.21692837402544,\n        \"min\": 64.417608534,\n        \"max\": 257.3473870118,\n        \"num_unique_values\": 1250,\n        \"samples\": [\n          125.9692500216\n        ],\n        \"semantic_type\": \"\",\n        \"description\": \"\"\n      }\n    },\n    {\n      \"column\": \"adjOpen\",\n      \"properties\": {\n        \"dtype\": \"number\",\n        \"std\": 40.44917049739532,\n        \"min\": 66.4028251177,\n        \"max\": 257.9067727073,\n        \"num_unique_values\": 1242,\n        \"samples\": [\n          188.7872994805\n        ],\n        \"semantic_type\": \"\",\n        \"description\": \"\"\n      }\n    },\n    {\n      \"column\": \"adjVolume\",\n      \"properties\": {\n        \"dtype\": \"number\",\n        \"std\": 43104065,\n        \"min\": 23234705,\n        \"max\": 374295468,\n        \"num_unique_values\": 1257,\n        \"samples\": [\n          104701220\n        ],\n        \"semantic_type\": \"\",\n        \"description\": \"\"\n      }\n    },\n    {\n      \"column\": \"divCash\",\n      \"properties\": {\n        \"dtype\": \"number\",\n        \"std\": 0.04267708988359434,\n        \"min\": 0.0,\n        \"max\": 0.82,\n        \"num_unique_values\": 7,\n        \"samples\": [\n          0.0\n        ],\n        \"semantic_type\": \"\",\n        \"description\": \"\"\n      }\n    },\n    {\n      \"column\": \"splitFactor\",\n      \"properties\": {\n        \"dtype\": \"number\",\n        \"std\": 0.0846162190989741,\n        \"min\": 1.0,\n        \"max\": 4.0,\n        \"num_unique_values\": 2,\n        \"samples\": [\n          4.0\n        ],\n        \"semantic_type\": \"\",\n        \"description\": \"\"\n      }\n    }\n  ]\n}"
            }
          },
          "metadata": {},
          "execution_count": 6
        }
      ]
    },
    {
      "cell_type": "code",
      "source": [
        "df2=df.reset_index()['close']"
      ],
      "metadata": {
        "id": "watePXFq2t3P"
      },
      "execution_count": 7,
      "outputs": []
    },
    {
      "cell_type": "code",
      "source": [
        "df2[1228:]"
      ],
      "metadata": {
        "colab": {
          "base_uri": "https://localhost:8080/",
          "height": 993
        },
        "id": "EIQEZpVZ3TsW",
        "outputId": "1e493eea-1dfd-445b-a8c7-9ab4cf5a5613",
        "collapsed": true
      },
      "execution_count": 8,
      "outputs": [
        {
          "output_type": "execute_result",
          "data": {
            "text/plain": [
              "1228    235.93\n",
              "1229    235.74\n",
              "1230    235.33\n",
              "1231    239.07\n",
              "1232    227.48\n",
              "1233    220.84\n",
              "1234    216.98\n",
              "1235    209.68\n",
              "1236    213.49\n",
              "1237    214.00\n",
              "1238    212.69\n",
              "1239    215.24\n",
              "1240    214.10\n",
              "1241    218.27\n",
              "1242    220.73\n",
              "1243    223.75\n",
              "1244    221.53\n",
              "1245    223.85\n",
              "1246    217.90\n",
              "1247    222.13\n",
              "1248    223.19\n",
              "1249    223.89\n",
              "1250    203.19\n",
              "1251    188.38\n",
              "1252    181.46\n",
              "1253    172.42\n",
              "1254    198.85\n",
              "1255    190.42\n",
              "1256    198.15\n",
              "Name: close, dtype: float64"
            ],
            "text/html": [
              "<div>\n",
              "<style scoped>\n",
              "    .dataframe tbody tr th:only-of-type {\n",
              "        vertical-align: middle;\n",
              "    }\n",
              "\n",
              "    .dataframe tbody tr th {\n",
              "        vertical-align: top;\n",
              "    }\n",
              "\n",
              "    .dataframe thead th {\n",
              "        text-align: right;\n",
              "    }\n",
              "</style>\n",
              "<table border=\"1\" class=\"dataframe\">\n",
              "  <thead>\n",
              "    <tr style=\"text-align: right;\">\n",
              "      <th></th>\n",
              "      <th>close</th>\n",
              "    </tr>\n",
              "  </thead>\n",
              "  <tbody>\n",
              "    <tr>\n",
              "      <th>1228</th>\n",
              "      <td>235.93</td>\n",
              "    </tr>\n",
              "    <tr>\n",
              "      <th>1229</th>\n",
              "      <td>235.74</td>\n",
              "    </tr>\n",
              "    <tr>\n",
              "      <th>1230</th>\n",
              "      <td>235.33</td>\n",
              "    </tr>\n",
              "    <tr>\n",
              "      <th>1231</th>\n",
              "      <td>239.07</td>\n",
              "    </tr>\n",
              "    <tr>\n",
              "      <th>1232</th>\n",
              "      <td>227.48</td>\n",
              "    </tr>\n",
              "    <tr>\n",
              "      <th>1233</th>\n",
              "      <td>220.84</td>\n",
              "    </tr>\n",
              "    <tr>\n",
              "      <th>1234</th>\n",
              "      <td>216.98</td>\n",
              "    </tr>\n",
              "    <tr>\n",
              "      <th>1235</th>\n",
              "      <td>209.68</td>\n",
              "    </tr>\n",
              "    <tr>\n",
              "      <th>1236</th>\n",
              "      <td>213.49</td>\n",
              "    </tr>\n",
              "    <tr>\n",
              "      <th>1237</th>\n",
              "      <td>214.00</td>\n",
              "    </tr>\n",
              "    <tr>\n",
              "      <th>1238</th>\n",
              "      <td>212.69</td>\n",
              "    </tr>\n",
              "    <tr>\n",
              "      <th>1239</th>\n",
              "      <td>215.24</td>\n",
              "    </tr>\n",
              "    <tr>\n",
              "      <th>1240</th>\n",
              "      <td>214.10</td>\n",
              "    </tr>\n",
              "    <tr>\n",
              "      <th>1241</th>\n",
              "      <td>218.27</td>\n",
              "    </tr>\n",
              "    <tr>\n",
              "      <th>1242</th>\n",
              "      <td>220.73</td>\n",
              "    </tr>\n",
              "    <tr>\n",
              "      <th>1243</th>\n",
              "      <td>223.75</td>\n",
              "    </tr>\n",
              "    <tr>\n",
              "      <th>1244</th>\n",
              "      <td>221.53</td>\n",
              "    </tr>\n",
              "    <tr>\n",
              "      <th>1245</th>\n",
              "      <td>223.85</td>\n",
              "    </tr>\n",
              "    <tr>\n",
              "      <th>1246</th>\n",
              "      <td>217.90</td>\n",
              "    </tr>\n",
              "    <tr>\n",
              "      <th>1247</th>\n",
              "      <td>222.13</td>\n",
              "    </tr>\n",
              "    <tr>\n",
              "      <th>1248</th>\n",
              "      <td>223.19</td>\n",
              "    </tr>\n",
              "    <tr>\n",
              "      <th>1249</th>\n",
              "      <td>223.89</td>\n",
              "    </tr>\n",
              "    <tr>\n",
              "      <th>1250</th>\n",
              "      <td>203.19</td>\n",
              "    </tr>\n",
              "    <tr>\n",
              "      <th>1251</th>\n",
              "      <td>188.38</td>\n",
              "    </tr>\n",
              "    <tr>\n",
              "      <th>1252</th>\n",
              "      <td>181.46</td>\n",
              "    </tr>\n",
              "    <tr>\n",
              "      <th>1253</th>\n",
              "      <td>172.42</td>\n",
              "    </tr>\n",
              "    <tr>\n",
              "      <th>1254</th>\n",
              "      <td>198.85</td>\n",
              "    </tr>\n",
              "    <tr>\n",
              "      <th>1255</th>\n",
              "      <td>190.42</td>\n",
              "    </tr>\n",
              "    <tr>\n",
              "      <th>1256</th>\n",
              "      <td>198.15</td>\n",
              "    </tr>\n",
              "  </tbody>\n",
              "</table>\n",
              "</div><br><label><b>dtype:</b> float64</label>"
            ]
          },
          "metadata": {},
          "execution_count": 8
        }
      ]
    },
    {
      "cell_type": "code",
      "source": [
        "df1=df.reset_index()['close']"
      ],
      "metadata": {
        "id": "gG21XNi8li9e"
      },
      "execution_count": 10,
      "outputs": []
    },
    {
      "cell_type": "code",
      "source": [
        "df1.shape"
      ],
      "metadata": {
        "colab": {
          "base_uri": "https://localhost:8080/"
        },
        "id": "z422vnzlltbu",
        "outputId": "7700b6c5-310a-4e25-d62d-214712de3093"
      },
      "execution_count": 11,
      "outputs": [
        {
          "output_type": "execute_result",
          "data": {
            "text/plain": [
              "(1257,)"
            ]
          },
          "metadata": {},
          "execution_count": 11
        }
      ]
    },
    {
      "cell_type": "code",
      "source": [
        "df1"
      ],
      "metadata": {
        "colab": {
          "base_uri": "https://localhost:8080/",
          "height": 458
        },
        "id": "wuX_llsjl59r",
        "outputId": "aa62dcf3-5bab-4c8e-9a39-5f40f012d268"
      },
      "execution_count": 13,
      "outputs": [
        {
          "output_type": "execute_result",
          "data": {
            "text/plain": [
              "0       287.05\n",
              "1       284.43\n",
              "2       286.69\n",
              "3       282.80\n",
              "4       276.93\n",
              "         ...  \n",
              "1252    181.46\n",
              "1253    172.42\n",
              "1254    198.85\n",
              "1255    190.42\n",
              "1256    198.15\n",
              "Name: close, Length: 1257, dtype: float64"
            ],
            "text/html": [
              "<div>\n",
              "<style scoped>\n",
              "    .dataframe tbody tr th:only-of-type {\n",
              "        vertical-align: middle;\n",
              "    }\n",
              "\n",
              "    .dataframe tbody tr th {\n",
              "        vertical-align: top;\n",
              "    }\n",
              "\n",
              "    .dataframe thead th {\n",
              "        text-align: right;\n",
              "    }\n",
              "</style>\n",
              "<table border=\"1\" class=\"dataframe\">\n",
              "  <thead>\n",
              "    <tr style=\"text-align: right;\">\n",
              "      <th></th>\n",
              "      <th>close</th>\n",
              "    </tr>\n",
              "  </thead>\n",
              "  <tbody>\n",
              "    <tr>\n",
              "      <th>0</th>\n",
              "      <td>287.05</td>\n",
              "    </tr>\n",
              "    <tr>\n",
              "      <th>1</th>\n",
              "      <td>284.43</td>\n",
              "    </tr>\n",
              "    <tr>\n",
              "      <th>2</th>\n",
              "      <td>286.69</td>\n",
              "    </tr>\n",
              "    <tr>\n",
              "      <th>3</th>\n",
              "      <td>282.80</td>\n",
              "    </tr>\n",
              "    <tr>\n",
              "      <th>4</th>\n",
              "      <td>276.93</td>\n",
              "    </tr>\n",
              "    <tr>\n",
              "      <th>...</th>\n",
              "      <td>...</td>\n",
              "    </tr>\n",
              "    <tr>\n",
              "      <th>1252</th>\n",
              "      <td>181.46</td>\n",
              "    </tr>\n",
              "    <tr>\n",
              "      <th>1253</th>\n",
              "      <td>172.42</td>\n",
              "    </tr>\n",
              "    <tr>\n",
              "      <th>1254</th>\n",
              "      <td>198.85</td>\n",
              "    </tr>\n",
              "    <tr>\n",
              "      <th>1255</th>\n",
              "      <td>190.42</td>\n",
              "    </tr>\n",
              "    <tr>\n",
              "      <th>1256</th>\n",
              "      <td>198.15</td>\n",
              "    </tr>\n",
              "  </tbody>\n",
              "</table>\n",
              "<p>1257 rows × 1 columns</p>\n",
              "</div><br><label><b>dtype:</b> float64</label>"
            ]
          },
          "metadata": {},
          "execution_count": 13
        }
      ]
    },
    {
      "cell_type": "code",
      "source": [
        "import matplotlib.pyplot as plt\n",
        "plt.plot(df1)\n",
        "plt.show()"
      ],
      "metadata": {
        "colab": {
          "base_uri": "https://localhost:8080/",
          "height": 430
        },
        "id": "-_wM2CAf3ZNx",
        "outputId": "9749559b-51be-40ca-f2c8-d1efffa9f002"
      },
      "execution_count": 12,
      "outputs": [
        {
          "output_type": "display_data",
          "data": {
            "text/plain": [
              "<Figure size 640x480 with 1 Axes>"
            ],
            "image/png": "[encoded data removed]"
          },
          "metadata": {}
        }
      ]
    },
    {
      "cell_type": "code",
      "source": [
        "import numpy as np\n",
        "from sklearn.preprocessing import MinMaxScaler\n",
        "scaler=MinMaxScaler(feature_range=(0,1))\n",
        "df1=scaler.fit_transform(np.array(df1).reshape(-1,1))"
      ],
      "metadata": {
        "id": "vux3O-ApmFvV"
      },
      "execution_count": 15,
      "outputs": []
    },
    {
      "cell_type": "code",
      "source": [
        "df1.shape"
      ],
      "metadata": {
        "colab": {
          "base_uri": "https://localhost:8080/"
        },
        "id": "wy_6sJSLmT51",
        "outputId": "8649bead-1504-4c79-94b8-0c764d162d59"
      },
      "execution_count": 16,
      "outputs": [
        {
          "output_type": "execute_result",
          "data": {
            "text/plain": [
              "(1257, 1)"
            ]
          },
          "metadata": {},
          "execution_count": 16
        }
      ]
    },
    {
      "cell_type": "code",
      "source": [
        "training_size=int(len(df1)*0.65)\n",
        "test_size=len(df1)-training_size\n",
        "train_data,test_data=df1[0:training_size,:],df1[training_size:len(df1),:1]"
      ],
      "metadata": {
        "id": "jSpqnL9LmiQO"
      },
      "execution_count": 17,
      "outputs": []
    },
    {
      "cell_type": "code",
      "source": [
        "import numpy\n",
        "def create_dataset(dataset,time_step=1):\n",
        "  dataX,dataY=[],[]\n",
        "  for i in range(len(dataset)-time_step-1):\n",
        "    a=dataset[i:(i+time_step),0]\n",
        "    dataX.append(a)\n",
        "    dataY.append(dataset[i+time_step,0])\n",
        "  return numpy.array(dataX),numpy.array(dataY)"
      ],
      "metadata": {
        "id": "Bhgh8j7Dm36I"
      },
      "execution_count": 18,
      "outputs": []
    },
    {
      "cell_type": "code",
      "source": [
        "\n",
        "time_step=100\n",
        "X_train,y_train=create_dataset(train_data,time_step)\n",
        "X_test,y_test=create_dataset(test_data,time_step)"
      ],
      "metadata": {
        "id": "9TQZXID3nCMa"
      },
      "execution_count": 19,
      "outputs": []
    },
    {
      "cell_type": "code",
      "source": [
        "print(X_train)"
      ],
      "metadata": {
        "colab": {
          "base_uri": "https://localhost:8080/"
        },
        "id": "t5dFCJRRnpWG",
        "outputId": "1e9ad30a-d7c1-41ca-f5cf-f1a9d6efbcb0"
      },
      "execution_count": 21,
      "outputs": [
        {
          "output_type": "stream",
          "name": "stdout",
          "text": [
            "[[0.45137132 0.44480902 0.45046963 ... 0.05560426 0.0684784  0.06151534]\n",
            " [0.44480902 0.45046963 0.44072636 ... 0.0684784  0.06151534 0.03516594]\n",
            " [0.45046963 0.44072636 0.42602379 ... 0.06151534 0.03516594 0.03536631]\n",
            " ...\n",
            " [0.11063244 0.11774577 0.11611772 ... 0.2144521  0.21162179 0.21282405]\n",
            " [0.11774577 0.11611772 0.12145272 ... 0.21162179 0.21282405 0.20999374]\n",
            " [0.11611772 0.12145272 0.11739512 ... 0.21282405 0.20999374 0.20480902]]\n"
          ]
        }
      ]
    },
    {
      "cell_type": "code",
      "source": [
        "print(X_test.shape) ,print(y_test.shape)"
      ],
      "metadata": {
        "colab": {
          "base_uri": "https://localhost:8080/"
        },
        "id": "eVjUzcABn4Fl",
        "outputId": "eae21c0b-c86c-4a0c-871e-e33c76755020"
      },
      "execution_count": 23,
      "outputs": [
        {
          "output_type": "stream",
          "name": "stdout",
          "text": [
            "(339, 100)\n",
            "(339,)\n"
          ]
        },
        {
          "output_type": "execute_result",
          "data": {
            "text/plain": [
              "(None, None)"
            ]
          },
          "metadata": {},
          "execution_count": 23
        }
      ]
    },
    {
      "cell_type": "code",
      "source": [
        "len(test_data)"
      ],
      "metadata": {
        "colab": {
          "base_uri": "https://localhost:8080/"
        },
        "id": "M0aDbRl7tHZo",
        "outputId": "ec449c99-632e-48f7-e078-002cfe34d866"
      },
      "execution_count": 38,
      "outputs": [
        {
          "output_type": "execute_result",
          "data": {
            "text/plain": [
              "440"
            ]
          },
          "metadata": {},
          "execution_count": 38
        }
      ]
    },
    {
      "cell_type": "code",
      "source": [
        "X_train=X_train.reshape(X_train.shape[0],X_train.shape[1],1)\n",
        "X_test=X_test.reshape(X_test.shape[0],X_test.shape[1],1)"
      ],
      "metadata": {
        "id": "XCKjJJ6roD6Q"
      },
      "execution_count": 24,
      "outputs": []
    },
    {
      "cell_type": "code",
      "source": [
        "from tensorflow.keras.models import Sequential\n",
        "from tensorflow.keras.layers import Dense\n",
        "from tensorflow.keras.layers import LSTM"
      ],
      "metadata": {
        "id": "fA4pcjQZoJZO"
      },
      "execution_count": 25,
      "outputs": []
    },
    {
      "cell_type": "code",
      "source": [
        "model=Sequential()\n",
        "model.add(LSTM(50,return_sequences=True,input_shape=(100,1)))\n",
        "model.add(LSTM(50,return_sequences=True))\n",
        "model.add(LSTM(50))\n",
        "model.add(Dense(1))\n",
        "model.compile(loss='mean_squared_error',optimizer='adam')"
      ],
      "metadata": {
        "colab": {
          "base_uri": "https://localhost:8080/"
        },
        "id": "OpQVjl2coQFm",
        "outputId": "daca6b62-1242-4811-e287-48540858aa66"
      },
      "execution_count": 26,
      "outputs": [
        {
          "output_type": "stream",
          "name": "stderr",
          "text": [
            "/usr/local/lib/python3.11/dist-packages/keras/src/layers/rnn/rnn.py:200: UserWarning: Do not pass an `input_shape`/`input_dim` argument to a layer. When using Sequential models, prefer using an `Input(shape)` object as the first layer in the model instead.\n",
            "  super().__init__(**kwargs)\n"
          ]
        }
      ]
    },
    {
      "cell_type": "code",
      "source": [
        "model.summary()"
      ],
      "metadata": {
        "colab": {
          "base_uri": "https://localhost:8080/",
          "height": 257
        },
        "id": "pKqzXsBqossA",
        "outputId": "f31933e9-0e50-4d7a-f52e-f927513bd7d4"
      },
      "execution_count": 27,
      "outputs": [
        {
          "output_type": "display_data",
          "data": {
            "text/plain": [
              "\u001b[1mModel: \"sequential\"\u001b[0m\n"
            ],
            "text/html": [
              "<pre style=\"white-space:pre;overflow-x:auto;line-height:normal;font-family:Menlo,'DejaVu Sans Mono',consolas,'Courier New',monospace\"><span style=\"font-weight: bold\">Model: \"sequential\"</span>\n",
              "</pre>\n"
            ]
          },
          "metadata": {}
        },
        {
          "output_type": "display_data",
          "data": {
            "text/plain": [
              "┏━━━━━━━━━━━━━━━━━━━━━━━━━━━━━━━━━┳━━━━━━━━━━━━━━━━━━━━━━━━┳━━━━━━━━━━━━━━━┓\n",
              "┃\u001b[1m \u001b[0m\u001b[1mLayer (type)                   \u001b[0m\u001b[1m \u001b[0m┃\u001b[1m \u001b[0m\u001b[1mOutput Shape          \u001b[0m\u001b[1m \u001b[0m┃\u001b[1m \u001b[0m\u001b[1m      Param #\u001b[0m\u001b[1m \u001b[0m┃\n",
              "┡━━━━━━━━━━━━━━━━━━━━━━━━━━━━━━━━━╇━━━━━━━━━━━━━━━━━━━━━━━━╇━━━━━━━━━━━━━━━┩\n",
              "│ lstm (\u001b[38;5;33mLSTM\u001b[0m)                     │ (\u001b[38;5;45mNone\u001b[0m, \u001b[38;5;34m100\u001b[0m, \u001b[38;5;34m50\u001b[0m)        │        \u001b[38;5;34m10,400\u001b[0m │\n",
              "├─────────────────────────────────┼────────────────────────┼───────────────┤\n",
              "│ lstm_1 (\u001b[38;5;33mLSTM\u001b[0m)                   │ (\u001b[38;5;45mNone\u001b[0m, \u001b[38;5;34m100\u001b[0m, \u001b[38;5;34m50\u001b[0m)        │        \u001b[38;5;34m20,200\u001b[0m │\n",
              "├─────────────────────────────────┼────────────────────────┼───────────────┤\n",
              "│ lstm_2 (\u001b[38;5;33mLSTM\u001b[0m)                   │ (\u001b[38;5;45mNone\u001b[0m, \u001b[38;5;34m50\u001b[0m)             │        \u001b[38;5;34m20,200\u001b[0m │\n",
              "├─────────────────────────────────┼────────────────────────┼───────────────┤\n",
              "│ dense (\u001b[38;5;33mDense\u001b[0m)                   │ (\u001b[38;5;45mNone\u001b[0m, \u001b[38;5;34m1\u001b[0m)              │            \u001b[38;5;34m51\u001b[0m │\n",
              "└─────────────────────────────────┴────────────────────────┴───────────────┘\n"
            ],
            "text/html": [
              "<pre style=\"white-space:pre;overflow-x:auto;line-height:normal;font-family:Menlo,'DejaVu Sans Mono',consolas,'Courier New',monospace\">┏━━━━━━━━━━━━━━━━━━━━━━━━━━━━━━━━━┳━━━━━━━━━━━━━━━━━━━━━━━━┳━━━━━━━━━━━━━━━┓\n",
              "┃<span style=\"font-weight: bold\"> Layer (type)                    </span>┃<span style=\"font-weight: bold\"> Output Shape           </span>┃<span style=\"font-weight: bold\">       Param # </span>┃\n",
              "┡━━━━━━━━━━━━━━━━━━━━━━━━━━━━━━━━━╇━━━━━━━━━━━━━━━━━━━━━━━━╇━━━━━━━━━━━━━━━┩\n",
              "│ lstm (<span style=\"color: #0087ff; text-decoration-color: #0087ff\">LSTM</span>)                     │ (<span style=\"color: #00d7ff; text-decoration-color: #00d7ff\">None</span>, <span style=\"color: #00af00; text-decoration-color: #00af00\">100</span>, <span style=\"color: #00af00; text-decoration-color: #00af00\">50</span>)        │        <span style=\"color: #00af00; text-decoration-color: #00af00\">10,400</span> │\n",
              "├─────────────────────────────────┼────────────────────────┼───────────────┤\n",
              "│ lstm_1 (<span style=\"color: #0087ff; text-decoration-color: #0087ff\">LSTM</span>)                   │ (<span style=\"color: #00d7ff; text-decoration-color: #00d7ff\">None</span>, <span style=\"color: #00af00; text-decoration-color: #00af00\">100</span>, <span style=\"color: #00af00; text-decoration-color: #00af00\">50</span>)        │        <span style=\"color: #00af00; text-decoration-color: #00af00\">20,200</span> │\n",
              "├─────────────────────────────────┼────────────────────────┼───────────────┤\n",
              "│ lstm_2 (<span style=\"color: #0087ff; text-decoration-color: #0087ff\">LSTM</span>)                   │ (<span style=\"color: #00d7ff; text-decoration-color: #00d7ff\">None</span>, <span style=\"color: #00af00; text-decoration-color: #00af00\">50</span>)             │        <span style=\"color: #00af00; text-decoration-color: #00af00\">20,200</span> │\n",
              "├─────────────────────────────────┼────────────────────────┼───────────────┤\n",
              "│ dense (<span style=\"color: #0087ff; text-decoration-color: #0087ff\">Dense</span>)                   │ (<span style=\"color: #00d7ff; text-decoration-color: #00d7ff\">None</span>, <span style=\"color: #00af00; text-decoration-color: #00af00\">1</span>)              │            <span style=\"color: #00af00; text-decoration-color: #00af00\">51</span> │\n",
              "└─────────────────────────────────┴────────────────────────┴───────────────┘\n",
              "</pre>\n"
            ]
          },
          "metadata": {}
        },
        {
          "output_type": "display_data",
          "data": {
            "text/plain": [
              "\u001b[1m Total params: \u001b[0m\u001b[38;5;34m50,851\u001b[0m (198.64 KB)\n"
            ],
            "text/html": [
              "<pre style=\"white-space:pre;overflow-x:auto;line-height:normal;font-family:Menlo,'DejaVu Sans Mono',consolas,'Courier New',monospace\"><span style=\"font-weight: bold\"> Total params: </span><span style=\"color: #00af00; text-decoration-color: #00af00\">50,851</span> (198.64 KB)\n",
              "</pre>\n"
            ]
          },
          "metadata": {}
        },
        {
          "output_type": "display_data",
          "data": {
            "text/plain": [
              "\u001b[1m Trainable params: \u001b[0m\u001b[38;5;34m50,851\u001b[0m (198.64 KB)\n"
            ],
            "text/html": [
              "<pre style=\"white-space:pre;overflow-x:auto;line-height:normal;font-family:Menlo,'DejaVu Sans Mono',consolas,'Courier New',monospace\"><span style=\"font-weight: bold\"> Trainable params: </span><span style=\"color: #00af00; text-decoration-color: #00af00\">50,851</span> (198.64 KB)\n",
              "</pre>\n"
            ]
          },
          "metadata": {}
        },
        {
          "output_type": "display_data",
          "data": {
            "text/plain": [
              "\u001b[1m Non-trainable params: \u001b[0m\u001b[38;5;34m0\u001b[0m (0.00 B)\n"
            ],
            "text/html": [
              "<pre style=\"white-space:pre;overflow-x:auto;line-height:normal;font-family:Menlo,'DejaVu Sans Mono',consolas,'Courier New',monospace\"><span style=\"font-weight: bold\"> Non-trainable params: </span><span style=\"color: #00af00; text-decoration-color: #00af00\">0</span> (0.00 B)\n",
              "</pre>\n"
            ]
          },
          "metadata": {}
        }
      ]
    },
    {
      "cell_type": "code",
      "source": [
        "X_train[:100]"
      ],
      "metadata": {
        "colab": {
          "base_uri": "https://localhost:8080/"
        },
        "id": "zjJO5ivzowWG",
        "outputId": "ef7ac683-5f06-4e6b-e04f-4055ec308a69"
      },
      "execution_count": 28,
      "outputs": [
        {
          "output_type": "execute_result",
          "data": {
            "text/plain": [
              "array([[[0.45137132],\n",
              "        [0.44480902],\n",
              "        [0.45046963],\n",
              "        ...,\n",
              "        [0.05560426],\n",
              "        [0.0684784 ],\n",
              "        [0.06151534]],\n",
              "\n",
              "       [[0.44480902],\n",
              "        [0.45046963],\n",
              "        [0.44072636],\n",
              "        ...,\n",
              "        [0.0684784 ],\n",
              "        [0.06151534],\n",
              "        [0.03516594]],\n",
              "\n",
              "       [[0.45046963],\n",
              "        [0.44072636],\n",
              "        [0.42602379],\n",
              "        ...,\n",
              "        [0.06151534],\n",
              "        [0.03516594],\n",
              "        [0.03536631]],\n",
              "\n",
              "       ...,\n",
              "\n",
              "       [[0.05560426],\n",
              "        [0.0684784 ],\n",
              "        [0.06151534],\n",
              "        ...,\n",
              "        [0.0630933 ],\n",
              "        [0.07521603],\n",
              "        [0.08072636]],\n",
              "\n",
              "       [[0.0684784 ],\n",
              "        [0.06151534],\n",
              "        [0.03516594],\n",
              "        ...,\n",
              "        [0.07521603],\n",
              "        [0.08072636],\n",
              "        [0.09036944]],\n",
              "\n",
              "       [[0.06151534],\n",
              "        [0.03516594],\n",
              "        [0.03536631],\n",
              "        ...,\n",
              "        [0.08072636],\n",
              "        [0.09036944],\n",
              "        [0.09097057]]])"
            ]
          },
          "metadata": {},
          "execution_count": 28
        }
      ]
    },
    {
      "cell_type": "code",
      "source": [
        "model.fit(X_train,y_train,validation_data=(X_test,y_test),epochs=100,batch_size=64,verbose=1)"
      ],
      "metadata": {
        "colab": {
          "base_uri": "https://localhost:8080/"
        },
        "id": "Vc77VDvwo2fk",
        "outputId": "9c5930da-2730-4ff2-df16-0ad30d437a3b"
      },
      "execution_count": 29,
      "outputs": [
        {
          "output_type": "stream",
          "name": "stdout",
          "text": [
            "Epoch 1/100\n",
            "\u001b[1m12/12\u001b[0m \u001b[32m━━━━━━━━━━━━━━━━━━━━\u001b[0m\u001b[37m\u001b[0m \u001b[1m9s\u001b[0m 344ms/step - loss: 0.0069 - val_loss: 0.0227\n",
            "Epoch 2/100\n",
            "\u001b[1m12/12\u001b[0m \u001b[32m━━━━━━━━━━━━━━━━━━━━\u001b[0m\u001b[37m\u001b[0m \u001b[1m2s\u001b[0m 177ms/step - loss: 0.0020 - val_loss: 0.0162\n",
            "Epoch 3/100\n",
            "\u001b[1m12/12\u001b[0m \u001b[32m━━━━━━━━━━━━━━━━━━━━\u001b[0m\u001b[37m\u001b[0m \u001b[1m3s\u001b[0m 179ms/step - loss: 0.0017 - val_loss: 0.0194\n",
            "Epoch 4/100\n",
            "\u001b[1m12/12\u001b[0m \u001b[32m━━━━━━━━━━━━━━━━━━━━\u001b[0m\u001b[37m\u001b[0m \u001b[1m3s\u001b[0m 176ms/step - loss: 0.0015 - val_loss: 0.0165\n",
            "Epoch 5/100\n",
            "\u001b[1m12/12\u001b[0m \u001b[32m━━━━━━━━━━━━━━━━━━━━\u001b[0m\u001b[37m\u001b[0m \u001b[1m3s\u001b[0m 180ms/step - loss: 0.0012 - val_loss: 0.0097\n",
            "Epoch 6/100\n",
            "\u001b[1m12/12\u001b[0m \u001b[32m━━━━━━━━━━━━━━━━━━━━\u001b[0m\u001b[37m\u001b[0m \u001b[1m3s\u001b[0m 251ms/step - loss: 8.4848e-04 - val_loss: 0.0034\n",
            "Epoch 7/100\n",
            "\u001b[1m12/12\u001b[0m \u001b[32m━━━━━━━━━━━━━━━━━━━━\u001b[0m\u001b[37m\u001b[0m \u001b[1m4s\u001b[0m 181ms/step - loss: 5.4148e-04 - val_loss: 0.0020\n",
            "Epoch 8/100\n",
            "\u001b[1m12/12\u001b[0m \u001b[32m━━━━━━━━━━━━━━━━━━━━\u001b[0m\u001b[37m\u001b[0m \u001b[1m3s\u001b[0m 232ms/step - loss: 7.6517e-04 - val_loss: 0.0112\n",
            "Epoch 9/100\n",
            "\u001b[1m12/12\u001b[0m \u001b[32m━━━━━━━━━━━━━━━━━━━━\u001b[0m\u001b[37m\u001b[0m \u001b[1m2s\u001b[0m 178ms/step - loss: 6.0915e-04 - val_loss: 0.0055\n",
            "Epoch 10/100\n",
            "\u001b[1m12/12\u001b[0m \u001b[32m━━━━━━━━━━━━━━━━━━━━\u001b[0m\u001b[37m\u001b[0m \u001b[1m4s\u001b[0m 277ms/step - loss: 4.0601e-04 - val_loss: 0.0064\n",
            "Epoch 11/100\n",
            "\u001b[1m12/12\u001b[0m \u001b[32m━━━━━━━━━━━━━━━━━━━━\u001b[0m\u001b[37m\u001b[0m \u001b[1m6s\u001b[0m 315ms/step - loss: 3.2597e-04 - val_loss: 0.0040\n",
            "Epoch 12/100\n",
            "\u001b[1m12/12\u001b[0m \u001b[32m━━━━━━━━━━━━━━━━━━━━\u001b[0m\u001b[37m\u001b[0m \u001b[1m6s\u001b[0m 373ms/step - loss: 2.4013e-04 - val_loss: 0.0055\n",
            "Epoch 13/100\n",
            "\u001b[1m12/12\u001b[0m \u001b[32m━━━━━━━━━━━━━━━━━━━━\u001b[0m\u001b[37m\u001b[0m \u001b[1m4s\u001b[0m 287ms/step - loss: 2.3896e-04 - val_loss: 0.0047\n",
            "Epoch 14/100\n",
            "\u001b[1m12/12\u001b[0m \u001b[32m━━━━━━━━━━━━━━━━━━━━\u001b[0m\u001b[37m\u001b[0m \u001b[1m4s\u001b[0m 180ms/step - loss: 2.3307e-04 - val_loss: 0.0043\n",
            "Epoch 15/100\n",
            "\u001b[1m12/12\u001b[0m \u001b[32m━━━━━━━━━━━━━━━━━━━━\u001b[0m\u001b[37m\u001b[0m \u001b[1m3s\u001b[0m 181ms/step - loss: 2.2542e-04 - val_loss: 0.0033\n",
            "Epoch 16/100\n",
            "\u001b[1m12/12\u001b[0m \u001b[32m━━━━━━━━━━━━━━━━━━━━\u001b[0m\u001b[37m\u001b[0m \u001b[1m4s\u001b[0m 269ms/step - loss: 2.4290e-04 - val_loss: 0.0050\n",
            "Epoch 17/100\n",
            "\u001b[1m12/12\u001b[0m \u001b[32m━━━━━━━━━━━━━━━━━━━━\u001b[0m\u001b[37m\u001b[0m \u001b[1m2s\u001b[0m 185ms/step - loss: 2.3756e-04 - val_loss: 0.0037\n",
            "Epoch 18/100\n",
            "\u001b[1m12/12\u001b[0m \u001b[32m━━━━━━━━━━━━━━━━━━━━\u001b[0m\u001b[37m\u001b[0m \u001b[1m2s\u001b[0m 179ms/step - loss: 2.1106e-04 - val_loss: 0.0030\n",
            "Epoch 19/100\n",
            "\u001b[1m12/12\u001b[0m \u001b[32m━━━━━━━━━━━━━━━━━━━━\u001b[0m\u001b[37m\u001b[0m \u001b[1m3s\u001b[0m 178ms/step - loss: 2.1187e-04 - val_loss: 0.0043\n",
            "Epoch 20/100\n",
            "\u001b[1m12/12\u001b[0m \u001b[32m━━━━━━━━━━━━━━━━━━━━\u001b[0m\u001b[37m\u001b[0m \u001b[1m3s\u001b[0m 208ms/step - loss: 2.7347e-04 - val_loss: 0.0016\n",
            "Epoch 21/100\n",
            "\u001b[1m12/12\u001b[0m \u001b[32m━━━━━━━━━━━━━━━━━━━━\u001b[0m\u001b[37m\u001b[0m \u001b[1m4s\u001b[0m 303ms/step - loss: 3.2465e-04 - val_loss: 0.0048\n",
            "Epoch 22/100\n",
            "\u001b[1m12/12\u001b[0m \u001b[32m━━━━━━━━━━━━━━━━━━━━\u001b[0m\u001b[37m\u001b[0m \u001b[1m4s\u001b[0m 180ms/step - loss: 2.1329e-04 - val_loss: 0.0028\n",
            "Epoch 23/100\n",
            "\u001b[1m12/12\u001b[0m \u001b[32m━━━━━━━━━━━━━━━━━━━━\u001b[0m\u001b[37m\u001b[0m \u001b[1m2s\u001b[0m 180ms/step - loss: 2.1672e-04 - val_loss: 0.0044\n",
            "Epoch 24/100\n",
            "\u001b[1m12/12\u001b[0m \u001b[32m━━━━━━━━━━━━━━━━━━━━\u001b[0m\u001b[37m\u001b[0m \u001b[1m3s\u001b[0m 179ms/step - loss: 2.0517e-04 - val_loss: 0.0023\n",
            "Epoch 25/100\n",
            "\u001b[1m12/12\u001b[0m \u001b[32m━━━━━━━━━━━━━━━━━━━━\u001b[0m\u001b[37m\u001b[0m \u001b[1m4s\u001b[0m 321ms/step - loss: 2.1151e-04 - val_loss: 0.0029\n",
            "Epoch 26/100\n",
            "\u001b[1m12/12\u001b[0m \u001b[32m━━━━━━━━━━━━━━━━━━━━\u001b[0m\u001b[37m\u001b[0m \u001b[1m4s\u001b[0m 178ms/step - loss: 1.8236e-04 - val_loss: 0.0030\n",
            "Epoch 27/100\n",
            "\u001b[1m12/12\u001b[0m \u001b[32m━━━━━━━━━━━━━━━━━━━━\u001b[0m\u001b[37m\u001b[0m \u001b[1m3s\u001b[0m 241ms/step - loss: 1.8930e-04 - val_loss: 0.0026\n",
            "Epoch 28/100\n",
            "\u001b[1m12/12\u001b[0m \u001b[32m━━━━━━━━━━━━━━━━━━━━\u001b[0m\u001b[37m\u001b[0m \u001b[1m6s\u001b[0m 304ms/step - loss: 1.7341e-04 - val_loss: 0.0031\n",
            "Epoch 29/100\n",
            "\u001b[1m12/12\u001b[0m \u001b[32m━━━━━━━━━━━━━━━━━━━━\u001b[0m\u001b[37m\u001b[0m \u001b[1m3s\u001b[0m 204ms/step - loss: 2.3826e-04 - val_loss: 0.0028\n",
            "Epoch 30/100\n",
            "\u001b[1m12/12\u001b[0m \u001b[32m━━━━━━━━━━━━━━━━━━━━\u001b[0m\u001b[37m\u001b[0m \u001b[1m3s\u001b[0m 284ms/step - loss: 1.9553e-04 - val_loss: 0.0023\n",
            "Epoch 31/100\n",
            "\u001b[1m12/12\u001b[0m \u001b[32m━━━━━━━━━━━━━━━━━━━━\u001b[0m\u001b[37m\u001b[0m \u001b[1m5s\u001b[0m 305ms/step - loss: 1.6322e-04 - val_loss: 0.0027\n",
            "Epoch 32/100\n",
            "\u001b[1m12/12\u001b[0m \u001b[32m━━━━━━━━━━━━━━━━━━━━\u001b[0m\u001b[37m\u001b[0m \u001b[1m4s\u001b[0m 179ms/step - loss: 1.6312e-04 - val_loss: 0.0018\n",
            "Epoch 33/100\n",
            "\u001b[1m12/12\u001b[0m \u001b[32m━━━━━━━━━━━━━━━━━━━━\u001b[0m\u001b[37m\u001b[0m \u001b[1m3s\u001b[0m 235ms/step - loss: 1.7003e-04 - val_loss: 0.0022\n",
            "Epoch 34/100\n",
            "\u001b[1m12/12\u001b[0m \u001b[32m━━━━━━━━━━━━━━━━━━━━\u001b[0m\u001b[37m\u001b[0m \u001b[1m5s\u001b[0m 209ms/step - loss: 1.6113e-04 - val_loss: 0.0014\n",
            "Epoch 35/100\n",
            "\u001b[1m12/12\u001b[0m \u001b[32m━━━━━━━━━━━━━━━━━━━━\u001b[0m\u001b[37m\u001b[0m \u001b[1m4s\u001b[0m 303ms/step - loss: 1.7180e-04 - val_loss: 0.0021\n",
            "Epoch 36/100\n",
            "\u001b[1m12/12\u001b[0m \u001b[32m━━━━━━━━━━━━━━━━━━━━\u001b[0m\u001b[37m\u001b[0m \u001b[1m4s\u001b[0m 179ms/step - loss: 1.8187e-04 - val_loss: 0.0018\n",
            "Epoch 37/100\n",
            "\u001b[1m12/12\u001b[0m \u001b[32m━━━━━━━━━━━━━━━━━━━━\u001b[0m\u001b[37m\u001b[0m \u001b[1m3s\u001b[0m 177ms/step - loss: 1.6936e-04 - val_loss: 0.0013\n",
            "Epoch 38/100\n",
            "\u001b[1m12/12\u001b[0m \u001b[32m━━━━━━━━━━━━━━━━━━━━\u001b[0m\u001b[37m\u001b[0m \u001b[1m3s\u001b[0m 181ms/step - loss: 1.6546e-04 - val_loss: 0.0012\n",
            "Epoch 39/100\n",
            "\u001b[1m12/12\u001b[0m \u001b[32m━━━━━━━━━━━━━━━━━━━━\u001b[0m\u001b[37m\u001b[0m \u001b[1m4s\u001b[0m 306ms/step - loss: 1.5281e-04 - val_loss: 0.0021\n",
            "Epoch 40/100\n",
            "\u001b[1m12/12\u001b[0m \u001b[32m━━━━━━━━━━━━━━━━━━━━\u001b[0m\u001b[37m\u001b[0m \u001b[1m4s\u001b[0m 178ms/step - loss: 1.8698e-04 - val_loss: 0.0018\n",
            "Epoch 41/100\n",
            "\u001b[1m12/12\u001b[0m \u001b[32m━━━━━━━━━━━━━━━━━━━━\u001b[0m\u001b[37m\u001b[0m \u001b[1m3s\u001b[0m 182ms/step - loss: 1.8367e-04 - val_loss: 0.0013\n",
            "Epoch 42/100\n",
            "\u001b[1m12/12\u001b[0m \u001b[32m━━━━━━━━━━━━━━━━━━━━\u001b[0m\u001b[37m\u001b[0m \u001b[1m2s\u001b[0m 180ms/step - loss: 1.6576e-04 - val_loss: 0.0021\n",
            "Epoch 43/100\n",
            "\u001b[1m12/12\u001b[0m \u001b[32m━━━━━━━━━━━━━━━━━━━━\u001b[0m\u001b[37m\u001b[0m \u001b[1m3s\u001b[0m 248ms/step - loss: 1.5767e-04 - val_loss: 0.0017\n",
            "Epoch 44/100\n",
            "\u001b[1m12/12\u001b[0m \u001b[32m━━━━━━━━━━━━━━━━━━━━\u001b[0m\u001b[37m\u001b[0m \u001b[1m3s\u001b[0m 210ms/step - loss: 1.3564e-04 - val_loss: 0.0018\n",
            "Epoch 45/100\n",
            "\u001b[1m12/12\u001b[0m \u001b[32m━━━━━━━━━━━━━━━━━━━━\u001b[0m\u001b[37m\u001b[0m \u001b[1m5s\u001b[0m 176ms/step - loss: 1.4889e-04 - val_loss: 0.0017\n",
            "Epoch 46/100\n",
            "\u001b[1m12/12\u001b[0m \u001b[32m━━━━━━━━━━━━━━━━━━━━\u001b[0m\u001b[37m\u001b[0m \u001b[1m3s\u001b[0m 177ms/step - loss: 1.5113e-04 - val_loss: 0.0013\n",
            "Epoch 47/100\n",
            "\u001b[1m12/12\u001b[0m \u001b[32m━━━━━━━━━━━━━━━━━━━━\u001b[0m\u001b[37m\u001b[0m \u001b[1m3s\u001b[0m 224ms/step - loss: 1.4938e-04 - val_loss: 0.0014\n",
            "Epoch 48/100\n",
            "\u001b[1m12/12\u001b[0m \u001b[32m━━━━━━━━━━━━━━━━━━━━\u001b[0m\u001b[37m\u001b[0m \u001b[1m5s\u001b[0m 180ms/step - loss: 1.4660e-04 - val_loss: 0.0013\n",
            "Epoch 49/100\n",
            "\u001b[1m12/12\u001b[0m \u001b[32m━━━━━━━━━━━━━━━━━━━━\u001b[0m\u001b[37m\u001b[0m \u001b[1m2s\u001b[0m 178ms/step - loss: 1.4913e-04 - val_loss: 0.0015\n",
            "Epoch 50/100\n",
            "\u001b[1m12/12\u001b[0m \u001b[32m━━━━━━━━━━━━━━━━━━━━\u001b[0m\u001b[37m\u001b[0m \u001b[1m2s\u001b[0m 179ms/step - loss: 1.4044e-04 - val_loss: 9.7785e-04\n",
            "Epoch 51/100\n",
            "\u001b[1m12/12\u001b[0m \u001b[32m━━━━━━━━━━━━━━━━━━━━\u001b[0m\u001b[37m\u001b[0m \u001b[1m2s\u001b[0m 208ms/step - loss: 1.4280e-04 - val_loss: 0.0010\n",
            "Epoch 52/100\n",
            "\u001b[1m12/12\u001b[0m \u001b[32m━━━━━━━━━━━━━━━━━━━━\u001b[0m\u001b[37m\u001b[0m \u001b[1m3s\u001b[0m 273ms/step - loss: 1.3717e-04 - val_loss: 0.0014\n",
            "Epoch 53/100\n",
            "\u001b[1m12/12\u001b[0m \u001b[32m━━━━━━━━━━━━━━━━━━━━\u001b[0m\u001b[37m\u001b[0m \u001b[1m4s\u001b[0m 177ms/step - loss: 1.4287e-04 - val_loss: 9.5340e-04\n",
            "Epoch 54/100\n",
            "\u001b[1m12/12\u001b[0m \u001b[32m━━━━━━━━━━━━━━━━━━━━\u001b[0m\u001b[37m\u001b[0m \u001b[1m2s\u001b[0m 180ms/step - loss: 1.7007e-04 - val_loss: 7.2328e-04\n",
            "Epoch 55/100\n",
            "\u001b[1m12/12\u001b[0m \u001b[32m━━━━━━━━━━━━━━━━━━━━\u001b[0m\u001b[37m\u001b[0m \u001b[1m2s\u001b[0m 180ms/step - loss: 1.6216e-04 - val_loss: 0.0015\n",
            "Epoch 56/100\n",
            "\u001b[1m12/12\u001b[0m \u001b[32m━━━━━━━━━━━━━━━━━━━━\u001b[0m\u001b[37m\u001b[0m \u001b[1m4s\u001b[0m 308ms/step - loss: 1.4920e-04 - val_loss: 5.2536e-04\n",
            "Epoch 57/100\n",
            "\u001b[1m12/12\u001b[0m \u001b[32m━━━━━━━━━━━━━━━━━━━━\u001b[0m\u001b[37m\u001b[0m \u001b[1m2s\u001b[0m 178ms/step - loss: 1.5169e-04 - val_loss: 0.0014\n",
            "Epoch 58/100\n",
            "\u001b[1m12/12\u001b[0m \u001b[32m━━━━━━━━━━━━━━━━━━━━\u001b[0m\u001b[37m\u001b[0m \u001b[1m2s\u001b[0m 176ms/step - loss: 1.3996e-04 - val_loss: 0.0011\n",
            "Epoch 59/100\n",
            "\u001b[1m12/12\u001b[0m \u001b[32m━━━━━━━━━━━━━━━━━━━━\u001b[0m\u001b[37m\u001b[0m \u001b[1m4s\u001b[0m 279ms/step - loss: 1.3737e-04 - val_loss: 9.4919e-04\n",
            "Epoch 60/100\n",
            "\u001b[1m12/12\u001b[0m \u001b[32m━━━━━━━━━━━━━━━━━━━━\u001b[0m\u001b[37m\u001b[0m \u001b[1m5s\u001b[0m 263ms/step - loss: 1.4191e-04 - val_loss: 8.8620e-04\n",
            "Epoch 61/100\n",
            "\u001b[1m12/12\u001b[0m \u001b[32m━━━━━━━━━━━━━━━━━━━━\u001b[0m\u001b[37m\u001b[0m \u001b[1m4s\u001b[0m 179ms/step - loss: 1.3415e-04 - val_loss: 6.9235e-04\n",
            "Epoch 62/100\n",
            "\u001b[1m12/12\u001b[0m \u001b[32m━━━━━━━━━━━━━━━━━━━━\u001b[0m\u001b[37m\u001b[0m \u001b[1m2s\u001b[0m 180ms/step - loss: 1.3885e-04 - val_loss: 8.9003e-04\n",
            "Epoch 63/100\n",
            "\u001b[1m12/12\u001b[0m \u001b[32m━━━━━━━━━━━━━━━━━━━━\u001b[0m\u001b[37m\u001b[0m \u001b[1m2s\u001b[0m 179ms/step - loss: 1.4979e-04 - val_loss: 7.5639e-04\n",
            "Epoch 64/100\n",
            "\u001b[1m12/12\u001b[0m \u001b[32m━━━━━━━━━━━━━━━━━━━━\u001b[0m\u001b[37m\u001b[0m \u001b[1m4s\u001b[0m 280ms/step - loss: 1.4545e-04 - val_loss: 5.0469e-04\n",
            "Epoch 65/100\n",
            "\u001b[1m12/12\u001b[0m \u001b[32m━━━━━━━━━━━━━━━━━━━━\u001b[0m\u001b[37m\u001b[0m \u001b[1m2s\u001b[0m 179ms/step - loss: 1.3419e-04 - val_loss: 7.1623e-04\n",
            "Epoch 66/100\n",
            "\u001b[1m12/12\u001b[0m \u001b[32m━━━━━━━━━━━━━━━━━━━━\u001b[0m\u001b[37m\u001b[0m \u001b[1m3s\u001b[0m 198ms/step - loss: 1.3501e-04 - val_loss: 5.6624e-04\n",
            "Epoch 67/100\n",
            "\u001b[1m12/12\u001b[0m \u001b[32m━━━━━━━━━━━━━━━━━━━━\u001b[0m\u001b[37m\u001b[0m \u001b[1m2s\u001b[0m 177ms/step - loss: 1.2564e-04 - val_loss: 3.8975e-04\n",
            "Epoch 68/100\n",
            "\u001b[1m12/12\u001b[0m \u001b[32m━━━━━━━━━━━━━━━━━━━━\u001b[0m\u001b[37m\u001b[0m \u001b[1m3s\u001b[0m 176ms/step - loss: 1.3370e-04 - val_loss: 6.2467e-04\n",
            "Epoch 69/100\n",
            "\u001b[1m12/12\u001b[0m \u001b[32m━━━━━━━━━━━━━━━━━━━━\u001b[0m\u001b[37m\u001b[0m \u001b[1m3s\u001b[0m 262ms/step - loss: 1.1658e-04 - val_loss: 8.0008e-04\n",
            "Epoch 70/100\n",
            "\u001b[1m12/12\u001b[0m \u001b[32m━━━━━━━━━━━━━━━━━━━━\u001b[0m\u001b[37m\u001b[0m \u001b[1m4s\u001b[0m 178ms/step - loss: 1.2523e-04 - val_loss: 5.4747e-04\n",
            "Epoch 71/100\n",
            "\u001b[1m12/12\u001b[0m \u001b[32m━━━━━━━━━━━━━━━━━━━━\u001b[0m\u001b[37m\u001b[0m \u001b[1m2s\u001b[0m 177ms/step - loss: 1.2758e-04 - val_loss: 3.9683e-04\n",
            "Epoch 72/100\n",
            "\u001b[1m12/12\u001b[0m \u001b[32m━━━━━━━━━━━━━━━━━━━━\u001b[0m\u001b[37m\u001b[0m \u001b[1m3s\u001b[0m 177ms/step - loss: 1.6013e-04 - val_loss: 5.6967e-04\n",
            "Epoch 73/100\n",
            "\u001b[1m12/12\u001b[0m \u001b[32m━━━━━━━━━━━━━━━━━━━━\u001b[0m\u001b[37m\u001b[0m \u001b[1m3s\u001b[0m 229ms/step - loss: 2.3245e-04 - val_loss: 0.0020\n",
            "Epoch 74/100\n",
            "\u001b[1m12/12\u001b[0m \u001b[32m━━━━━━━━━━━━━━━━━━━━\u001b[0m\u001b[37m\u001b[0m \u001b[1m5s\u001b[0m 178ms/step - loss: 3.5887e-04 - val_loss: 5.5540e-04\n",
            "Epoch 75/100\n",
            "\u001b[1m12/12\u001b[0m \u001b[32m━━━━━━━━━━━━━━━━━━━━\u001b[0m\u001b[37m\u001b[0m \u001b[1m2s\u001b[0m 175ms/step - loss: 1.6963e-04 - val_loss: 5.7026e-04\n",
            "Epoch 76/100\n",
            "\u001b[1m12/12\u001b[0m \u001b[32m━━━━━━━━━━━━━━━━━━━━\u001b[0m\u001b[37m\u001b[0m \u001b[1m3s\u001b[0m 177ms/step - loss: 1.3503e-04 - val_loss: 0.0023\n",
            "Epoch 77/100\n",
            "\u001b[1m12/12\u001b[0m \u001b[32m━━━━━━━━━━━━━━━━━━━━\u001b[0m\u001b[37m\u001b[0m \u001b[1m4s\u001b[0m 305ms/step - loss: 1.7754e-04 - val_loss: 6.5509e-04\n",
            "Epoch 78/100\n",
            "\u001b[1m12/12\u001b[0m \u001b[32m━━━━━━━━━━━━━━━━━━━━\u001b[0m\u001b[37m\u001b[0m \u001b[1m2s\u001b[0m 179ms/step - loss: 1.2601e-04 - val_loss: 0.0015\n",
            "Epoch 79/100\n",
            "\u001b[1m12/12\u001b[0m \u001b[32m━━━━━━━━━━━━━━━━━━━━\u001b[0m\u001b[37m\u001b[0m \u001b[1m2s\u001b[0m 178ms/step - loss: 1.3059e-04 - val_loss: 0.0011\n",
            "Epoch 80/100\n",
            "\u001b[1m12/12\u001b[0m \u001b[32m━━━━━━━━━━━━━━━━━━━━\u001b[0m\u001b[37m\u001b[0m \u001b[1m3s\u001b[0m 177ms/step - loss: 1.1406e-04 - val_loss: 9.3729e-04\n",
            "Epoch 81/100\n",
            "\u001b[1m12/12\u001b[0m \u001b[32m━━━━━━━━━━━━━━━━━━━━\u001b[0m\u001b[37m\u001b[0m \u001b[1m3s\u001b[0m 179ms/step - loss: 1.2216e-04 - val_loss: 0.0011\n",
            "Epoch 82/100\n",
            "\u001b[1m12/12\u001b[0m \u001b[32m━━━━━━━━━━━━━━━━━━━━\u001b[0m\u001b[37m\u001b[0m \u001b[1m4s\u001b[0m 300ms/step - loss: 1.2942e-04 - val_loss: 8.8455e-04\n",
            "Epoch 83/100\n",
            "\u001b[1m12/12\u001b[0m \u001b[32m━━━━━━━━━━━━━━━━━━━━\u001b[0m\u001b[37m\u001b[0m \u001b[1m2s\u001b[0m 181ms/step - loss: 1.1736e-04 - val_loss: 7.3106e-04\n",
            "Epoch 84/100\n",
            "\u001b[1m12/12\u001b[0m \u001b[32m━━━━━━━━━━━━━━━━━━━━\u001b[0m\u001b[37m\u001b[0m \u001b[1m3s\u001b[0m 177ms/step - loss: 1.1637e-04 - val_loss: 0.0011\n",
            "Epoch 85/100\n",
            "\u001b[1m12/12\u001b[0m \u001b[32m━━━━━━━━━━━━━━━━━━━━\u001b[0m\u001b[37m\u001b[0m \u001b[1m2s\u001b[0m 177ms/step - loss: 1.3117e-04 - val_loss: 6.8933e-04\n",
            "Epoch 86/100\n",
            "\u001b[1m12/12\u001b[0m \u001b[32m━━━━━━━━━━━━━━━━━━━━\u001b[0m\u001b[37m\u001b[0m \u001b[1m3s\u001b[0m 182ms/step - loss: 1.2066e-04 - val_loss: 9.7469e-04\n",
            "Epoch 87/100\n",
            "\u001b[1m12/12\u001b[0m \u001b[32m━━━━━━━━━━━━━━━━━━━━\u001b[0m\u001b[37m\u001b[0m \u001b[1m3s\u001b[0m 294ms/step - loss: 1.1348e-04 - val_loss: 8.2175e-04\n",
            "Epoch 88/100\n",
            "\u001b[1m12/12\u001b[0m \u001b[32m━━━━━━━━━━━━━━━━━━━━\u001b[0m\u001b[37m\u001b[0m \u001b[1m2s\u001b[0m 180ms/step - loss: 1.0378e-04 - val_loss: 7.0185e-04\n",
            "Epoch 89/100\n",
            "\u001b[1m12/12\u001b[0m \u001b[32m━━━━━━━━━━━━━━━━━━━━\u001b[0m\u001b[37m\u001b[0m \u001b[1m2s\u001b[0m 182ms/step - loss: 1.0490e-04 - val_loss: 9.1566e-04\n",
            "Epoch 90/100\n",
            "\u001b[1m12/12\u001b[0m \u001b[32m━━━━━━━━━━━━━━━━━━━━\u001b[0m\u001b[37m\u001b[0m \u001b[1m2s\u001b[0m 180ms/step - loss: 1.0507e-04 - val_loss: 7.6503e-04\n",
            "Epoch 91/100\n",
            "\u001b[1m12/12\u001b[0m \u001b[32m━━━━━━━━━━━━━━━━━━━━\u001b[0m\u001b[37m\u001b[0m \u001b[1m3s\u001b[0m 179ms/step - loss: 1.1306e-04 - val_loss: 6.0961e-04\n",
            "Epoch 92/100\n",
            "\u001b[1m12/12\u001b[0m \u001b[32m━━━━━━━━━━━━━━━━━━━━\u001b[0m\u001b[37m\u001b[0m \u001b[1m3s\u001b[0m 249ms/step - loss: 1.0001e-04 - val_loss: 8.4114e-04\n",
            "Epoch 93/100\n",
            "\u001b[1m12/12\u001b[0m \u001b[32m━━━━━━━━━━━━━━━━━━━━\u001b[0m\u001b[37m\u001b[0m \u001b[1m4s\u001b[0m 180ms/step - loss: 1.0872e-04 - val_loss: 9.4030e-04\n",
            "Epoch 94/100\n",
            "\u001b[1m12/12\u001b[0m \u001b[32m━━━━━━━━━━━━━━━━━━━━\u001b[0m\u001b[37m\u001b[0m \u001b[1m3s\u001b[0m 178ms/step - loss: 9.7517e-05 - val_loss: 5.7331e-04\n",
            "Epoch 95/100\n",
            "\u001b[1m12/12\u001b[0m \u001b[32m━━━━━━━━━━━━━━━━━━━━\u001b[0m\u001b[37m\u001b[0m \u001b[1m2s\u001b[0m 178ms/step - loss: 1.0274e-04 - val_loss: 4.6077e-04\n",
            "Epoch 96/100\n",
            "\u001b[1m12/12\u001b[0m \u001b[32m━━━━━━━━━━━━━━━━━━━━\u001b[0m\u001b[37m\u001b[0m \u001b[1m3s\u001b[0m 234ms/step - loss: 1.0811e-04 - val_loss: 7.2902e-04\n",
            "Epoch 97/100\n",
            "\u001b[1m12/12\u001b[0m \u001b[32m━━━━━━━━━━━━━━━━━━━━\u001b[0m\u001b[37m\u001b[0m \u001b[1m3s\u001b[0m 226ms/step - loss: 1.0629e-04 - val_loss: 3.0977e-04\n",
            "Epoch 98/100\n",
            "\u001b[1m12/12\u001b[0m \u001b[32m━━━━━━━━━━━━━━━━━━━━\u001b[0m\u001b[37m\u001b[0m \u001b[1m4s\u001b[0m 179ms/step - loss: 1.2810e-04 - val_loss: 0.0010\n",
            "Epoch 99/100\n",
            "\u001b[1m12/12\u001b[0m \u001b[32m━━━━━━━━━━━━━━━━━━━━\u001b[0m\u001b[37m\u001b[0m \u001b[1m3s\u001b[0m 178ms/step - loss: 1.4529e-04 - val_loss: 6.5817e-04\n",
            "Epoch 100/100\n",
            "\u001b[1m12/12\u001b[0m \u001b[32m━━━━━━━━━━━━━━━━━━━━\u001b[0m\u001b[37m\u001b[0m \u001b[1m3s\u001b[0m 231ms/step - loss: 1.1763e-04 - val_loss: 3.0180e-04\n"
          ]
        },
        {
          "output_type": "execute_result",
          "data": {
            "text/plain": [
              "<keras.src.callbacks.history.History at 0x78cc99fbd350>"
            ]
          },
          "metadata": {},
          "execution_count": 29
        }
      ]
    },
    {
      "cell_type": "code",
      "source": [
        "import tensorflow as tf"
      ],
      "metadata": {
        "id": "Dvqe17P_o-1X"
      },
      "execution_count": 30,
      "outputs": []
    },
    {
      "cell_type": "code",
      "source": [
        "tf.__version__"
      ],
      "metadata": {
        "colab": {
          "base_uri": "https://localhost:8080/",
          "height": 35
        },
        "id": "lKLqLxPBpT-M",
        "outputId": "86909ff4-828e-4947-f373-91e2cf95a0ec"
      },
      "execution_count": 31,
      "outputs": [
        {
          "output_type": "execute_result",
          "data": {
            "text/plain": [
              "'2.18.0'"
            ],
            "application/vnd.google.colaboratory.intrinsic+json": {
              "type": "string"
            }
          },
          "metadata": {},
          "execution_count": 31
        }
      ]
    },
    {
      "cell_type": "code",
      "source": [
        "train_predict=model.predict(X_train)\n",
        "test_predict=model.predict(X_test)"
      ],
      "metadata": {
        "colab": {
          "base_uri": "https://localhost:8080/"
        },
        "id": "mkNFrHx5pWP_",
        "outputId": "929148d0-58ca-4d16-f71a-15da2ebc023e"
      },
      "execution_count": 32,
      "outputs": [
        {
          "output_type": "stream",
          "name": "stdout",
          "text": [
            "\u001b[1m23/23\u001b[0m \u001b[32m━━━━━━━━━━━━━━━━━━━━\u001b[0m\u001b[37m\u001b[0m \u001b[1m2s\u001b[0m 53ms/step\n",
            "\u001b[1m11/11\u001b[0m \u001b[32m━━━━━━━━━━━━━━━━━━━━\u001b[0m\u001b[37m\u001b[0m \u001b[1m0s\u001b[0m 36ms/step\n"
          ]
        }
      ]
    },
    {
      "cell_type": "code",
      "source": [
        "train_predict=scaler.inverse_transform(train_predict)\n",
        "test_predict=scaler.inverse_transform(test_predict)"
      ],
      "metadata": {
        "id": "jGhteKsFqmgW"
      },
      "execution_count": 33,
      "outputs": []
    },
    {
      "cell_type": "code",
      "source": [
        "import math\n",
        "from sklearn.metrics import mean_squared_error\n",
        "math.sqrt(mean_squared_error(y_train,train_predict))"
      ],
      "metadata": {
        "colab": {
          "base_uri": "https://localhost:8080/"
        },
        "id": "7ABa3SRVq9Tx",
        "outputId": "228cfe58-9e9f-41d2-b646-bddb4005be26"
      },
      "execution_count": 34,
      "outputs": [
        {
          "output_type": "execute_result",
          "data": {
            "text/plain": [
              "150.33054530412255"
            ]
          },
          "metadata": {},
          "execution_count": 34
        }
      ]
    },
    {
      "cell_type": "code",
      "source": [
        "math.sqrt(mean_squared_error(y_test,test_predict))"
      ],
      "metadata": {
        "colab": {
          "base_uri": "https://localhost:8080/"
        },
        "id": "EUMXVCUKrB7m",
        "outputId": "fb19184f-35fd-4e42-eb1c-8c2f21c276fb"
      },
      "execution_count": 35,
      "outputs": [
        {
          "output_type": "execute_result",
          "data": {
            "text/plain": [
              "208.6731118475213"
            ]
          },
          "metadata": {},
          "execution_count": 35
        }
      ]
    },
    {
      "cell_type": "code",
      "source": [
        "look_back=100\n",
        "trainPredictPlot=numpy.empty_like(df1)\n",
        "trainPredictPlot[:,:]=np.nan\n",
        "trainPredictPlot[look_back:len(train_predict)+look_back,:]=train_predict\n",
        "testPredictPlot=numpy.empty_like(df1)\n",
        "testPredictPlot[:,:]=numpy.nan\n",
        "testPredictPlot[len(train_predict)+(look_back*2)+1:len(df1)-1,:]=test_predict\n",
        "plt.plot(scaler.inverse_transform(df1))\n",
        "plt.plot(trainPredictPlot)\n",
        "plt.plot(testPredictPlot)\n",
        "plt.show()"
      ],
      "metadata": {
        "colab": {
          "base_uri": "https://localhost:8080/",
          "height": 430
        },
        "id": "xPys3_57rEtK",
        "outputId": "738fc334-8570-4959-86ec-666c46fcb5ad"
      },
      "execution_count": 37,
      "outputs": [
        {
          "output_type": "display_data",
          "data": {
            "text/plain": [
              "<Figure size 640x480 with 1 Axes>"
            ],
            "image/png": "[encoded data removed]"
          },
          "metadata": {}
        }
      ]
    },
    {
      "cell_type": "code",
      "source": [
        "440-100\n"
      ],
      "metadata": {
        "colab": {
          "base_uri": "https://localhost:8080/"
        },
        "id": "cR7EoJ8AraxG",
        "outputId": "523127d4-a2e5-4a36-ce0f-e76e877f993b"
      },
      "execution_count": 39,
      "outputs": [
        {
          "output_type": "execute_result",
          "data": {
            "text/plain": [
              "340"
            ]
          },
          "metadata": {},
          "execution_count": 39
        }
      ]
    },
    {
      "cell_type": "code",
      "source": [
        "x_input=test_data[340:].reshape(1,-1)\n",
        "x_input.shape"
      ],
      "metadata": {
        "colab": {
          "base_uri": "https://localhost:8080/"
        },
        "id": "hSiCcyxUtPfS",
        "outputId": "80dafa1d-23b5-4ff6-e139-0050bc402e47"
      },
      "execution_count": 40,
      "outputs": [
        {
          "output_type": "execute_result",
          "data": {
            "text/plain": [
              "(1, 100)"
            ]
          },
          "metadata": {},
          "execution_count": 40
        }
      ]
    },
    {
      "cell_type": "code",
      "source": [
        "x_input=test_data[340:].reshape(1,-1)"
      ],
      "metadata": {
        "id": "QThQAQp-tpEN"
      },
      "execution_count": 45,
      "outputs": []
    },
    {
      "cell_type": "code",
      "source": [
        "x_input=test_data[340:].reshape(1,-1)"
      ],
      "metadata": {
        "id": "oW_wFTR_twHs"
      },
      "execution_count": 46,
      "outputs": []
    },
    {
      "cell_type": "code",
      "source": [
        "x_input.shape"
      ],
      "metadata": {
        "colab": {
          "base_uri": "https://localhost:8080/"
        },
        "id": "iYK4Boznt5x2",
        "outputId": "abe2a09f-084b-438c-ef25-bbb053cbdb17"
      },
      "execution_count": 47,
      "outputs": [
        {
          "output_type": "execute_result",
          "data": {
            "text/plain": [
              "(1, 100)"
            ]
          },
          "metadata": {},
          "execution_count": 47
        }
      ]
    },
    {
      "cell_type": "code",
      "source": [
        "temp_input=list(x_input)\n",
        "temp_input=temp_input[0].tolist()"
      ],
      "metadata": {
        "id": "p7ViGFG9t9FH"
      },
      "execution_count": 48,
      "outputs": []
    },
    {
      "cell_type": "code",
      "source": [
        "temp_input"
      ],
      "metadata": {
        "colab": {
          "base_uri": "https://localhost:8080/"
        },
        "id": "EgYGWDRauKW_",
        "outputId": "1758c8b3-29bf-45cc-f8ae-2132fc52b78f"
      },
      "execution_count": 49,
      "outputs": [
        {
          "output_type": "execute_result",
          "data": {
            "text/plain": [
              "[0.2959549154664996,\n",
              " 0.30351909830932994,\n",
              " 0.30417031934877886,\n",
              " 0.30597370068879143,\n",
              " 0.30477144646211646,\n",
              " 0.3081527864746399,\n",
              " 0.3156668753913588,\n",
              " 0.32115216030056354,\n",
              " 0.3208265497808391,\n",
              " 0.32683782091421415,\n",
              " 0.33249843456480893,\n",
              " 0.34016280525986226,\n",
              " 0.34106449592986837,\n",
              " 0.34113963681903564,\n",
              " 0.34063869755792103,\n",
              " 0.3504320601127113,\n",
              " 0.35298685034439575,\n",
              " 0.34978083907326235,\n",
              " 0.35346274264245453,\n",
              " 0.353888541014402,\n",
              " 0.3611772072636192,\n",
              " 0.36728866624921724,\n",
              " 0.3536881653099561,\n",
              " 0.35804633688165305,\n",
              " 0.3698184095178459,\n",
              " 0.3717720726361929,\n",
              " 0.3791108328115215,\n",
              " 0.3811646837820913,\n",
              " 0.3725735754539761,\n",
              " 0.36408265497808384,\n",
              " 0.3596242955541639,\n",
              " 0.3431684408265497,\n",
              " 0.341941139636819,\n",
              " 0.3460488415779586,\n",
              " 0.33906073888541016,\n",
              " 0.34028804007514085,\n",
              " 0.32563556668753907,\n",
              " 0.3194990607388854,\n",
              " 0.3166938008766436,\n",
              " 0.32819035691922355,\n",
              " 0.3041202254226674,\n",
              " 0.3084283030682529,\n",
              " 0.2900438321853474,\n",
              " 0.29302442078897933,\n",
              " 0.2925986224170319,\n",
              " 0.2903944896681277,\n",
              " 0.3081277395115842,\n",
              " 0.32916718847839693,\n",
              " 0.33192235441452717,\n",
              " 0.3274890419536631,\n",
              " 0.32350657482780204,\n",
              " 0.3034940513462742,\n",
              " 0.31549154664996865,\n",
              " 0.3146649968691296,\n",
              " 0.3165435190983093,\n",
              " 0.30254226675015644,\n",
              " 0.302592360676268,\n",
              " 0.3150407013149655,\n",
              " 0.3256856606136505,\n",
              " 0.3373575453976205,\n",
              " 0.3450469630557294,\n",
              " 0.34472135253600494,\n",
              " 0.34572323105823416,\n",
              " 0.3481277395115842,\n",
              " 0.34742642454602374,\n",
              " 0.3513087038196618,\n",
              " 0.35115842204132747,\n",
              " 0.3344270507201002,\n",
              " 0.326762680025047,\n",
              " 0.3381340012523481,\n",
              " 0.32859110832811517,\n",
              " 0.323331246086412,\n",
              " 0.3228553537883531,\n",
              " 0.3218284283030682,\n",
              " 0.331195992485911,\n",
              " 0.30216656230432054,\n",
              " 0.28553537883531616,\n",
              " 0.2758672510958045,\n",
              " 0.2575829680651221,\n",
              " 0.26712586098935504,\n",
              " 0.26840325610519716,\n",
              " 0.2651221039448966,\n",
              " 0.2715090795241077,\n",
              " 0.26865372573575447,\n",
              " 0.27909830932999374,\n",
              " 0.28525986224170313,\n",
              " 0.29282404508453347,\n",
              " 0.28726361928616145,\n",
              " 0.2930745147150908,\n",
              " 0.2781715716969317,\n",
              " 0.2887664370695053,\n",
              " 0.29142141515341263,\n",
              " 0.29317470256731365,\n",
              " 0.2413274890419536,\n",
              " 0.20423293675641824,\n",
              " 0.18690043832185343,\n",
              " 0.16425798371947392,\n",
              " 0.230457107075767,\n",
              " 0.20934251721978703,\n",
              " 0.22870381966186598]"
            ]
          },
          "metadata": {},
          "execution_count": 49
        }
      ]
    },
    {
      "cell_type": "code",
      "source": [
        "from numpy import array\n",
        "lst_output=[]\n",
        "n_steps=100\n",
        "i=0\n",
        "while(i<30):\n",
        "  if(len(temp_input)>100):\n",
        "    x_input=np.array(temp_input[1:])\n",
        "    print(\"{} day input {}\".format(i,x_input))\n",
        "    x_input=x_input.reshape(1,-1)\n",
        "    x_input=x_input.reshape((1,n_steps,1))\n",
        "    yhat=model.predict(x_input,verbose=0)\n",
        "    print(\"{} day output {}\".format(i,yhat))\n",
        "    temp_input.extend(yhat[0].tolist())\n",
        "    temp_input=temp_input[1:]\n",
        "    lst_output.extend(yhat.tolist())\n",
        "    i=i+1\n",
        "  else:\n",
        "    x_input=x_input.reshape((1,n_steps,1))\n",
        "    yhat=model.predict(x_input,verbose=0)\n",
        "    print(yhat[0])\n",
        "    temp_input.extend(yhat[0].tolist())\n",
        "    print(len(temp_input))\n",
        "    lst_output.extend(yhat.tolist())\n",
        "    i=i+1\n",
        "print(lst_output)"
      ],
      "metadata": {
        "colab": {
          "base_uri": "https://localhost:8080/"
        },
        "id": "vUPXNLGFuZ27",
        "outputId": "3ea2ae55-5acb-46e9-d434-d3a81a5399e8"
      },
      "execution_count": 50,
      "outputs": [
        {
          "output_type": "stream",
          "name": "stdout",
          "text": [
            "[0.19607882]\n",
            "101\n",
            "1 day input [0.3035191  0.30417032 0.3059737  0.30477145 0.30815279 0.31566688\n",
            " 0.32115216 0.32082655 0.32683782 0.33249843 0.34016281 0.3410645\n",
            " 0.34113964 0.3406387  0.35043206 0.35298685 0.34978084 0.35346274\n",
            " 0.35388854 0.36117721 0.36728867 0.35368817 0.35804634 0.36981841\n",
            " 0.37177207 0.37911083 0.38116468 0.37257358 0.36408265 0.3596243\n",
            " 0.34316844 0.34194114 0.34604884 0.33906074 0.34028804 0.32563557\n",
            " 0.31949906 0.3166938  0.32819036 0.30412023 0.3084283  0.29004383\n",
            " 0.29302442 0.29259862 0.29039449 0.30812774 0.32916719 0.33192235\n",
            " 0.32748904 0.32350657 0.30349405 0.31549155 0.314665   0.31654352\n",
            " 0.30254227 0.30259236 0.3150407  0.32568566 0.33735755 0.34504696\n",
            " 0.34472135 0.34572323 0.34812774 0.34742642 0.3513087  0.35115842\n",
            " 0.33442705 0.32676268 0.338134   0.32859111 0.32333125 0.32285535\n",
            " 0.32182843 0.33119599 0.30216656 0.28553538 0.27586725 0.25758297\n",
            " 0.26712586 0.26840326 0.2651221  0.27150908 0.26865373 0.27909831\n",
            " 0.28525986 0.29282405 0.28726362 0.29307451 0.27817157 0.28876644\n",
            " 0.29142142 0.2931747  0.24132749 0.20423294 0.18690044 0.16425798\n",
            " 0.23045711 0.20934252 0.22870382 0.19607882]\n",
            "1 day output [[0.20105815]]\n",
            "2 day input [0.30417032 0.3059737  0.30477145 0.30815279 0.31566688 0.32115216\n",
            " 0.32082655 0.32683782 0.33249843 0.34016281 0.3410645  0.34113964\n",
            " 0.3406387  0.35043206 0.35298685 0.34978084 0.35346274 0.35388854\n",
            " 0.36117721 0.36728867 0.35368817 0.35804634 0.36981841 0.37177207\n",
            " 0.37911083 0.38116468 0.37257358 0.36408265 0.3596243  0.34316844\n",
            " 0.34194114 0.34604884 0.33906074 0.34028804 0.32563557 0.31949906\n",
            " 0.3166938  0.32819036 0.30412023 0.3084283  0.29004383 0.29302442\n",
            " 0.29259862 0.29039449 0.30812774 0.32916719 0.33192235 0.32748904\n",
            " 0.32350657 0.30349405 0.31549155 0.314665   0.31654352 0.30254227\n",
            " 0.30259236 0.3150407  0.32568566 0.33735755 0.34504696 0.34472135\n",
            " 0.34572323 0.34812774 0.34742642 0.3513087  0.35115842 0.33442705\n",
            " 0.32676268 0.338134   0.32859111 0.32333125 0.32285535 0.32182843\n",
            " 0.33119599 0.30216656 0.28553538 0.27586725 0.25758297 0.26712586\n",
            " 0.26840326 0.2651221  0.27150908 0.26865373 0.27909831 0.28525986\n",
            " 0.29282405 0.28726362 0.29307451 0.27817157 0.28876644 0.29142142\n",
            " 0.2931747  0.24132749 0.20423294 0.18690044 0.16425798 0.23045711\n",
            " 0.20934252 0.22870382 0.19607882 0.20105815]\n",
            "2 day output [[0.20395516]]\n",
            "3 day input [0.3059737  0.30477145 0.30815279 0.31566688 0.32115216 0.32082655\n",
            " 0.32683782 0.33249843 0.34016281 0.3410645  0.34113964 0.3406387\n",
            " 0.35043206 0.35298685 0.34978084 0.35346274 0.35388854 0.36117721\n",
            " 0.36728867 0.35368817 0.35804634 0.36981841 0.37177207 0.37911083\n",
            " 0.38116468 0.37257358 0.36408265 0.3596243  0.34316844 0.34194114\n",
            " 0.34604884 0.33906074 0.34028804 0.32563557 0.31949906 0.3166938\n",
            " 0.32819036 0.30412023 0.3084283  0.29004383 0.29302442 0.29259862\n",
            " 0.29039449 0.30812774 0.32916719 0.33192235 0.32748904 0.32350657\n",
            " 0.30349405 0.31549155 0.314665   0.31654352 0.30254227 0.30259236\n",
            " 0.3150407  0.32568566 0.33735755 0.34504696 0.34472135 0.34572323\n",
            " 0.34812774 0.34742642 0.3513087  0.35115842 0.33442705 0.32676268\n",
            " 0.338134   0.32859111 0.32333125 0.32285535 0.32182843 0.33119599\n",
            " 0.30216656 0.28553538 0.27586725 0.25758297 0.26712586 0.26840326\n",
            " 0.2651221  0.27150908 0.26865373 0.27909831 0.28525986 0.29282405\n",
            " 0.28726362 0.29307451 0.27817157 0.28876644 0.29142142 0.2931747\n",
            " 0.24132749 0.20423294 0.18690044 0.16425798 0.23045711 0.20934252\n",
            " 0.22870382 0.19607882 0.20105815 0.20395516]\n",
            "3 day output [[0.20557202]]\n",
            "4 day input [0.30477145 0.30815279 0.31566688 0.32115216 0.32082655 0.32683782\n",
            " 0.33249843 0.34016281 0.3410645  0.34113964 0.3406387  0.35043206\n",
            " 0.35298685 0.34978084 0.35346274 0.35388854 0.36117721 0.36728867\n",
            " 0.35368817 0.35804634 0.36981841 0.37177207 0.37911083 0.38116468\n",
            " 0.37257358 0.36408265 0.3596243  0.34316844 0.34194114 0.34604884\n",
            " 0.33906074 0.34028804 0.32563557 0.31949906 0.3166938  0.32819036\n",
            " 0.30412023 0.3084283  0.29004383 0.29302442 0.29259862 0.29039449\n",
            " 0.30812774 0.32916719 0.33192235 0.32748904 0.32350657 0.30349405\n",
            " 0.31549155 0.314665   0.31654352 0.30254227 0.30259236 0.3150407\n",
            " 0.32568566 0.33735755 0.34504696 0.34472135 0.34572323 0.34812774\n",
            " 0.34742642 0.3513087  0.35115842 0.33442705 0.32676268 0.338134\n",
            " 0.32859111 0.32333125 0.32285535 0.32182843 0.33119599 0.30216656\n",
            " 0.28553538 0.27586725 0.25758297 0.26712586 0.26840326 0.2651221\n",
            " 0.27150908 0.26865373 0.27909831 0.28525986 0.29282405 0.28726362\n",
            " 0.29307451 0.27817157 0.28876644 0.29142142 0.2931747  0.24132749\n",
            " 0.20423294 0.18690044 0.16425798 0.23045711 0.20934252 0.22870382\n",
            " 0.19607882 0.20105815 0.20395516 0.20557202]\n",
            "4 day output [[0.20667008]]\n",
            "5 day input [0.30815279 0.31566688 0.32115216 0.32082655 0.32683782 0.33249843\n",
            " 0.34016281 0.3410645  0.34113964 0.3406387  0.35043206 0.35298685\n",
            " 0.34978084 0.35346274 0.35388854 0.36117721 0.36728867 0.35368817\n",
            " 0.35804634 0.36981841 0.37177207 0.37911083 0.38116468 0.37257358\n",
            " 0.36408265 0.3596243  0.34316844 0.34194114 0.34604884 0.33906074\n",
            " 0.34028804 0.32563557 0.31949906 0.3166938  0.32819036 0.30412023\n",
            " 0.3084283  0.29004383 0.29302442 0.29259862 0.29039449 0.30812774\n",
            " 0.32916719 0.33192235 0.32748904 0.32350657 0.30349405 0.31549155\n",
            " 0.314665   0.31654352 0.30254227 0.30259236 0.3150407  0.32568566\n",
            " 0.33735755 0.34504696 0.34472135 0.34572323 0.34812774 0.34742642\n",
            " 0.3513087  0.35115842 0.33442705 0.32676268 0.338134   0.32859111\n",
            " 0.32333125 0.32285535 0.32182843 0.33119599 0.30216656 0.28553538\n",
            " 0.27586725 0.25758297 0.26712586 0.26840326 0.2651221  0.27150908\n",
            " 0.26865373 0.27909831 0.28525986 0.29282405 0.28726362 0.29307451\n",
            " 0.27817157 0.28876644 0.29142142 0.2931747  0.24132749 0.20423294\n",
            " 0.18690044 0.16425798 0.23045711 0.20934252 0.22870382 0.19607882\n",
            " 0.20105815 0.20395516 0.20557202 0.20667008]\n",
            "5 day output [[0.20764756]]\n",
            "6 day input [0.31566688 0.32115216 0.32082655 0.32683782 0.33249843 0.34016281\n",
            " 0.3410645  0.34113964 0.3406387  0.35043206 0.35298685 0.34978084\n",
            " 0.35346274 0.35388854 0.36117721 0.36728867 0.35368817 0.35804634\n",
            " 0.36981841 0.37177207 0.37911083 0.38116468 0.37257358 0.36408265\n",
            " 0.3596243  0.34316844 0.34194114 0.34604884 0.33906074 0.34028804\n",
            " 0.32563557 0.31949906 0.3166938  0.32819036 0.30412023 0.3084283\n",
            " 0.29004383 0.29302442 0.29259862 0.29039449 0.30812774 0.32916719\n",
            " 0.33192235 0.32748904 0.32350657 0.30349405 0.31549155 0.314665\n",
            " 0.31654352 0.30254227 0.30259236 0.3150407  0.32568566 0.33735755\n",
            " 0.34504696 0.34472135 0.34572323 0.34812774 0.34742642 0.3513087\n",
            " 0.35115842 0.33442705 0.32676268 0.338134   0.32859111 0.32333125\n",
            " 0.32285535 0.32182843 0.33119599 0.30216656 0.28553538 0.27586725\n",
            " 0.25758297 0.26712586 0.26840326 0.2651221  0.27150908 0.26865373\n",
            " 0.27909831 0.28525986 0.29282405 0.28726362 0.29307451 0.27817157\n",
            " 0.28876644 0.29142142 0.2931747  0.24132749 0.20423294 0.18690044\n",
            " 0.16425798 0.23045711 0.20934252 0.22870382 0.19607882 0.20105815\n",
            " 0.20395516 0.20557202 0.20667008 0.20764756]\n",
            "6 day output [[0.20864129]]\n",
            "7 day input [0.32115216 0.32082655 0.32683782 0.33249843 0.34016281 0.3410645\n",
            " 0.34113964 0.3406387  0.35043206 0.35298685 0.34978084 0.35346274\n",
            " 0.35388854 0.36117721 0.36728867 0.35368817 0.35804634 0.36981841\n",
            " 0.37177207 0.37911083 0.38116468 0.37257358 0.36408265 0.3596243\n",
            " 0.34316844 0.34194114 0.34604884 0.33906074 0.34028804 0.32563557\n",
            " 0.31949906 0.3166938  0.32819036 0.30412023 0.3084283  0.29004383\n",
            " 0.29302442 0.29259862 0.29039449 0.30812774 0.32916719 0.33192235\n",
            " 0.32748904 0.32350657 0.30349405 0.31549155 0.314665   0.31654352\n",
            " 0.30254227 0.30259236 0.3150407  0.32568566 0.33735755 0.34504696\n",
            " 0.34472135 0.34572323 0.34812774 0.34742642 0.3513087  0.35115842\n",
            " 0.33442705 0.32676268 0.338134   0.32859111 0.32333125 0.32285535\n",
            " 0.32182843 0.33119599 0.30216656 0.28553538 0.27586725 0.25758297\n",
            " 0.26712586 0.26840326 0.2651221  0.27150908 0.26865373 0.27909831\n",
            " 0.28525986 0.29282405 0.28726362 0.29307451 0.27817157 0.28876644\n",
            " 0.29142142 0.2931747  0.24132749 0.20423294 0.18690044 0.16425798\n",
            " 0.23045711 0.20934252 0.22870382 0.19607882 0.20105815 0.20395516\n",
            " 0.20557202 0.20667008 0.20764756 0.20864129]\n",
            "7 day output [[0.20966569]]\n",
            "8 day input [0.32082655 0.32683782 0.33249843 0.34016281 0.3410645  0.34113964\n",
            " 0.3406387  0.35043206 0.35298685 0.34978084 0.35346274 0.35388854\n",
            " 0.36117721 0.36728867 0.35368817 0.35804634 0.36981841 0.37177207\n",
            " 0.37911083 0.38116468 0.37257358 0.36408265 0.3596243  0.34316844\n",
            " 0.34194114 0.34604884 0.33906074 0.34028804 0.32563557 0.31949906\n",
            " 0.3166938  0.32819036 0.30412023 0.3084283  0.29004383 0.29302442\n",
            " 0.29259862 0.29039449 0.30812774 0.32916719 0.33192235 0.32748904\n",
            " 0.32350657 0.30349405 0.31549155 0.314665   0.31654352 0.30254227\n",
            " 0.30259236 0.3150407  0.32568566 0.33735755 0.34504696 0.34472135\n",
            " 0.34572323 0.34812774 0.34742642 0.3513087  0.35115842 0.33442705\n",
            " 0.32676268 0.338134   0.32859111 0.32333125 0.32285535 0.32182843\n",
            " 0.33119599 0.30216656 0.28553538 0.27586725 0.25758297 0.26712586\n",
            " 0.26840326 0.2651221  0.27150908 0.26865373 0.27909831 0.28525986\n",
            " 0.29282405 0.28726362 0.29307451 0.27817157 0.28876644 0.29142142\n",
            " 0.2931747  0.24132749 0.20423294 0.18690044 0.16425798 0.23045711\n",
            " 0.20934252 0.22870382 0.19607882 0.20105815 0.20395516 0.20557202\n",
            " 0.20667008 0.20764756 0.20864129 0.20966569]\n",
            "8 day output [[0.21069746]]\n",
            "9 day input [0.32683782 0.33249843 0.34016281 0.3410645  0.34113964 0.3406387\n",
            " 0.35043206 0.35298685 0.34978084 0.35346274 0.35388854 0.36117721\n",
            " 0.36728867 0.35368817 0.35804634 0.36981841 0.37177207 0.37911083\n",
            " 0.38116468 0.37257358 0.36408265 0.3596243  0.34316844 0.34194114\n",
            " 0.34604884 0.33906074 0.34028804 0.32563557 0.31949906 0.3166938\n",
            " 0.32819036 0.30412023 0.3084283  0.29004383 0.29302442 0.29259862\n",
            " 0.29039449 0.30812774 0.32916719 0.33192235 0.32748904 0.32350657\n",
            " 0.30349405 0.31549155 0.314665   0.31654352 0.30254227 0.30259236\n",
            " 0.3150407  0.32568566 0.33735755 0.34504696 0.34472135 0.34572323\n",
            " 0.34812774 0.34742642 0.3513087  0.35115842 0.33442705 0.32676268\n",
            " 0.338134   0.32859111 0.32333125 0.32285535 0.32182843 0.33119599\n",
            " 0.30216656 0.28553538 0.27586725 0.25758297 0.26712586 0.26840326\n",
            " 0.2651221  0.27150908 0.26865373 0.27909831 0.28525986 0.29282405\n",
            " 0.28726362 0.29307451 0.27817157 0.28876644 0.29142142 0.2931747\n",
            " 0.24132749 0.20423294 0.18690044 0.16425798 0.23045711 0.20934252\n",
            " 0.22870382 0.19607882 0.20105815 0.20395516 0.20557202 0.20667008\n",
            " 0.20764756 0.20864129 0.20966569 0.21069746]\n",
            "9 day output [[0.21171162]]\n",
            "10 day input [0.33249843 0.34016281 0.3410645  0.34113964 0.3406387  0.35043206\n",
            " 0.35298685 0.34978084 0.35346274 0.35388854 0.36117721 0.36728867\n",
            " 0.35368817 0.35804634 0.36981841 0.37177207 0.37911083 0.38116468\n",
            " 0.37257358 0.36408265 0.3596243  0.34316844 0.34194114 0.34604884\n",
            " 0.33906074 0.34028804 0.32563557 0.31949906 0.3166938  0.32819036\n",
            " 0.30412023 0.3084283  0.29004383 0.29302442 0.29259862 0.29039449\n",
            " 0.30812774 0.32916719 0.33192235 0.32748904 0.32350657 0.30349405\n",
            " 0.31549155 0.314665   0.31654352 0.30254227 0.30259236 0.3150407\n",
            " 0.32568566 0.33735755 0.34504696 0.34472135 0.34572323 0.34812774\n",
            " 0.34742642 0.3513087  0.35115842 0.33442705 0.32676268 0.338134\n",
            " 0.32859111 0.32333125 0.32285535 0.32182843 0.33119599 0.30216656\n",
            " 0.28553538 0.27586725 0.25758297 0.26712586 0.26840326 0.2651221\n",
            " 0.27150908 0.26865373 0.27909831 0.28525986 0.29282405 0.28726362\n",
            " 0.29307451 0.27817157 0.28876644 0.29142142 0.2931747  0.24132749\n",
            " 0.20423294 0.18690044 0.16425798 0.23045711 0.20934252 0.22870382\n",
            " 0.19607882 0.20105815 0.20395516 0.20557202 0.20667008 0.20764756\n",
            " 0.20864129 0.20966569 0.21069746 0.21171162]\n",
            "10 day output [[0.2126915]]\n",
            "11 day input [0.34016281 0.3410645  0.34113964 0.3406387  0.35043206 0.35298685\n",
            " 0.34978084 0.35346274 0.35388854 0.36117721 0.36728867 0.35368817\n",
            " 0.35804634 0.36981841 0.37177207 0.37911083 0.38116468 0.37257358\n",
            " 0.36408265 0.3596243  0.34316844 0.34194114 0.34604884 0.33906074\n",
            " 0.34028804 0.32563557 0.31949906 0.3166938  0.32819036 0.30412023\n",
            " 0.3084283  0.29004383 0.29302442 0.29259862 0.29039449 0.30812774\n",
            " 0.32916719 0.33192235 0.32748904 0.32350657 0.30349405 0.31549155\n",
            " 0.314665   0.31654352 0.30254227 0.30259236 0.3150407  0.32568566\n",
            " 0.33735755 0.34504696 0.34472135 0.34572323 0.34812774 0.34742642\n",
            " 0.3513087  0.35115842 0.33442705 0.32676268 0.338134   0.32859111\n",
            " 0.32333125 0.32285535 0.32182843 0.33119599 0.30216656 0.28553538\n",
            " 0.27586725 0.25758297 0.26712586 0.26840326 0.2651221  0.27150908\n",
            " 0.26865373 0.27909831 0.28525986 0.29282405 0.28726362 0.29307451\n",
            " 0.27817157 0.28876644 0.29142142 0.2931747  0.24132749 0.20423294\n",
            " 0.18690044 0.16425798 0.23045711 0.20934252 0.22870382 0.19607882\n",
            " 0.20105815 0.20395516 0.20557202 0.20667008 0.20764756 0.20864129\n",
            " 0.20966569 0.21069746 0.21171162 0.2126915 ]\n",
            "11 day output [[0.21362875]]\n",
            "12 day input [0.3410645  0.34113964 0.3406387  0.35043206 0.35298685 0.34978084\n",
            " 0.35346274 0.35388854 0.36117721 0.36728867 0.35368817 0.35804634\n",
            " 0.36981841 0.37177207 0.37911083 0.38116468 0.37257358 0.36408265\n",
            " 0.3596243  0.34316844 0.34194114 0.34604884 0.33906074 0.34028804\n",
            " 0.32563557 0.31949906 0.3166938  0.32819036 0.30412023 0.3084283\n",
            " 0.29004383 0.29302442 0.29259862 0.29039449 0.30812774 0.32916719\n",
            " 0.33192235 0.32748904 0.32350657 0.30349405 0.31549155 0.314665\n",
            " 0.31654352 0.30254227 0.30259236 0.3150407  0.32568566 0.33735755\n",
            " 0.34504696 0.34472135 0.34572323 0.34812774 0.34742642 0.3513087\n",
            " 0.35115842 0.33442705 0.32676268 0.338134   0.32859111 0.32333125\n",
            " 0.32285535 0.32182843 0.33119599 0.30216656 0.28553538 0.27586725\n",
            " 0.25758297 0.26712586 0.26840326 0.2651221  0.27150908 0.26865373\n",
            " 0.27909831 0.28525986 0.29282405 0.28726362 0.29307451 0.27817157\n",
            " 0.28876644 0.29142142 0.2931747  0.24132749 0.20423294 0.18690044\n",
            " 0.16425798 0.23045711 0.20934252 0.22870382 0.19607882 0.20105815\n",
            " 0.20395516 0.20557202 0.20667008 0.20764756 0.20864129 0.20966569\n",
            " 0.21069746 0.21171162 0.2126915  0.21362875]\n",
            "12 day output [[0.2145204]]\n",
            "13 day input [0.34113964 0.3406387  0.35043206 0.35298685 0.34978084 0.35346274\n",
            " 0.35388854 0.36117721 0.36728867 0.35368817 0.35804634 0.36981841\n",
            " 0.37177207 0.37911083 0.38116468 0.37257358 0.36408265 0.3596243\n",
            " 0.34316844 0.34194114 0.34604884 0.33906074 0.34028804 0.32563557\n",
            " 0.31949906 0.3166938  0.32819036 0.30412023 0.3084283  0.29004383\n",
            " 0.29302442 0.29259862 0.29039449 0.30812774 0.32916719 0.33192235\n",
            " 0.32748904 0.32350657 0.30349405 0.31549155 0.314665   0.31654352\n",
            " 0.30254227 0.30259236 0.3150407  0.32568566 0.33735755 0.34504696\n",
            " 0.34472135 0.34572323 0.34812774 0.34742642 0.3513087  0.35115842\n",
            " 0.33442705 0.32676268 0.338134   0.32859111 0.32333125 0.32285535\n",
            " 0.32182843 0.33119599 0.30216656 0.28553538 0.27586725 0.25758297\n",
            " 0.26712586 0.26840326 0.2651221  0.27150908 0.26865373 0.27909831\n",
            " 0.28525986 0.29282405 0.28726362 0.29307451 0.27817157 0.28876644\n",
            " 0.29142142 0.2931747  0.24132749 0.20423294 0.18690044 0.16425798\n",
            " 0.23045711 0.20934252 0.22870382 0.19607882 0.20105815 0.20395516\n",
            " 0.20557202 0.20667008 0.20764756 0.20864129 0.20966569 0.21069746\n",
            " 0.21171162 0.2126915  0.21362875 0.21452039]\n",
            "13 day output [[0.2153668]]\n",
            "14 day input [0.3406387  0.35043206 0.35298685 0.34978084 0.35346274 0.35388854\n",
            " 0.36117721 0.36728867 0.35368817 0.35804634 0.36981841 0.37177207\n",
            " 0.37911083 0.38116468 0.37257358 0.36408265 0.3596243  0.34316844\n",
            " 0.34194114 0.34604884 0.33906074 0.34028804 0.32563557 0.31949906\n",
            " 0.3166938  0.32819036 0.30412023 0.3084283  0.29004383 0.29302442\n",
            " 0.29259862 0.29039449 0.30812774 0.32916719 0.33192235 0.32748904\n",
            " 0.32350657 0.30349405 0.31549155 0.314665   0.31654352 0.30254227\n",
            " 0.30259236 0.3150407  0.32568566 0.33735755 0.34504696 0.34472135\n",
            " 0.34572323 0.34812774 0.34742642 0.3513087  0.35115842 0.33442705\n",
            " 0.32676268 0.338134   0.32859111 0.32333125 0.32285535 0.32182843\n",
            " 0.33119599 0.30216656 0.28553538 0.27586725 0.25758297 0.26712586\n",
            " 0.26840326 0.2651221  0.27150908 0.26865373 0.27909831 0.28525986\n",
            " 0.29282405 0.28726362 0.29307451 0.27817157 0.28876644 0.29142142\n",
            " 0.2931747  0.24132749 0.20423294 0.18690044 0.16425798 0.23045711\n",
            " 0.20934252 0.22870382 0.19607882 0.20105815 0.20395516 0.20557202\n",
            " 0.20667008 0.20764756 0.20864129 0.20966569 0.21069746 0.21171162\n",
            " 0.2126915  0.21362875 0.21452039 0.2153668 ]\n",
            "14 day output [[0.2161694]]\n",
            "15 day input [0.35043206 0.35298685 0.34978084 0.35346274 0.35388854 0.36117721\n",
            " 0.36728867 0.35368817 0.35804634 0.36981841 0.37177207 0.37911083\n",
            " 0.38116468 0.37257358 0.36408265 0.3596243  0.34316844 0.34194114\n",
            " 0.34604884 0.33906074 0.34028804 0.32563557 0.31949906 0.3166938\n",
            " 0.32819036 0.30412023 0.3084283  0.29004383 0.29302442 0.29259862\n",
            " 0.29039449 0.30812774 0.32916719 0.33192235 0.32748904 0.32350657\n",
            " 0.30349405 0.31549155 0.314665   0.31654352 0.30254227 0.30259236\n",
            " 0.3150407  0.32568566 0.33735755 0.34504696 0.34472135 0.34572323\n",
            " 0.34812774 0.34742642 0.3513087  0.35115842 0.33442705 0.32676268\n",
            " 0.338134   0.32859111 0.32333125 0.32285535 0.32182843 0.33119599\n",
            " 0.30216656 0.28553538 0.27586725 0.25758297 0.26712586 0.26840326\n",
            " 0.2651221  0.27150908 0.26865373 0.27909831 0.28525986 0.29282405\n",
            " 0.28726362 0.29307451 0.27817157 0.28876644 0.29142142 0.2931747\n",
            " 0.24132749 0.20423294 0.18690044 0.16425798 0.23045711 0.20934252\n",
            " 0.22870382 0.19607882 0.20105815 0.20395516 0.20557202 0.20667008\n",
            " 0.20764756 0.20864129 0.20966569 0.21069746 0.21171162 0.2126915\n",
            " 0.21362875 0.21452039 0.2153668  0.2161694 ]\n",
            "15 day output [[0.21693073]]\n",
            "16 day input [0.35298685 0.34978084 0.35346274 0.35388854 0.36117721 0.36728867\n",
            " 0.35368817 0.35804634 0.36981841 0.37177207 0.37911083 0.38116468\n",
            " 0.37257358 0.36408265 0.3596243  0.34316844 0.34194114 0.34604884\n",
            " 0.33906074 0.34028804 0.32563557 0.31949906 0.3166938  0.32819036\n",
            " 0.30412023 0.3084283  0.29004383 0.29302442 0.29259862 0.29039449\n",
            " 0.30812774 0.32916719 0.33192235 0.32748904 0.32350657 0.30349405\n",
            " 0.31549155 0.314665   0.31654352 0.30254227 0.30259236 0.3150407\n",
            " 0.32568566 0.33735755 0.34504696 0.34472135 0.34572323 0.34812774\n",
            " 0.34742642 0.3513087  0.35115842 0.33442705 0.32676268 0.338134\n",
            " 0.32859111 0.32333125 0.32285535 0.32182843 0.33119599 0.30216656\n",
            " 0.28553538 0.27586725 0.25758297 0.26712586 0.26840326 0.2651221\n",
            " 0.27150908 0.26865373 0.27909831 0.28525986 0.29282405 0.28726362\n",
            " 0.29307451 0.27817157 0.28876644 0.29142142 0.2931747  0.24132749\n",
            " 0.20423294 0.18690044 0.16425798 0.23045711 0.20934252 0.22870382\n",
            " 0.19607882 0.20105815 0.20395516 0.20557202 0.20667008 0.20764756\n",
            " 0.20864129 0.20966569 0.21069746 0.21171162 0.2126915  0.21362875\n",
            " 0.21452039 0.2153668  0.2161694  0.21693073]\n",
            "16 day output [[0.21765308]]\n",
            "17 day input [0.34978084 0.35346274 0.35388854 0.36117721 0.36728867 0.35368817\n",
            " 0.35804634 0.36981841 0.37177207 0.37911083 0.38116468 0.37257358\n",
            " 0.36408265 0.3596243  0.34316844 0.34194114 0.34604884 0.33906074\n",
            " 0.34028804 0.32563557 0.31949906 0.3166938  0.32819036 0.30412023\n",
            " 0.3084283  0.29004383 0.29302442 0.29259862 0.29039449 0.30812774\n",
            " 0.32916719 0.33192235 0.32748904 0.32350657 0.30349405 0.31549155\n",
            " 0.314665   0.31654352 0.30254227 0.30259236 0.3150407  0.32568566\n",
            " 0.33735755 0.34504696 0.34472135 0.34572323 0.34812774 0.34742642\n",
            " 0.3513087  0.35115842 0.33442705 0.32676268 0.338134   0.32859111\n",
            " 0.32333125 0.32285535 0.32182843 0.33119599 0.30216656 0.28553538\n",
            " 0.27586725 0.25758297 0.26712586 0.26840326 0.2651221  0.27150908\n",
            " 0.26865373 0.27909831 0.28525986 0.29282405 0.28726362 0.29307451\n",
            " 0.27817157 0.28876644 0.29142142 0.2931747  0.24132749 0.20423294\n",
            " 0.18690044 0.16425798 0.23045711 0.20934252 0.22870382 0.19607882\n",
            " 0.20105815 0.20395516 0.20557202 0.20667008 0.20764756 0.20864129\n",
            " 0.20966569 0.21069746 0.21171162 0.2126915  0.21362875 0.21452039\n",
            " 0.2153668  0.2161694  0.21693073 0.21765308]\n",
            "17 day output [[0.21833877]]\n",
            "18 day input [0.35346274 0.35388854 0.36117721 0.36728867 0.35368817 0.35804634\n",
            " 0.36981841 0.37177207 0.37911083 0.38116468 0.37257358 0.36408265\n",
            " 0.3596243  0.34316844 0.34194114 0.34604884 0.33906074 0.34028804\n",
            " 0.32563557 0.31949906 0.3166938  0.32819036 0.30412023 0.3084283\n",
            " 0.29004383 0.29302442 0.29259862 0.29039449 0.30812774 0.32916719\n",
            " 0.33192235 0.32748904 0.32350657 0.30349405 0.31549155 0.314665\n",
            " 0.31654352 0.30254227 0.30259236 0.3150407  0.32568566 0.33735755\n",
            " 0.34504696 0.34472135 0.34572323 0.34812774 0.34742642 0.3513087\n",
            " 0.35115842 0.33442705 0.32676268 0.338134   0.32859111 0.32333125\n",
            " 0.32285535 0.32182843 0.33119599 0.30216656 0.28553538 0.27586725\n",
            " 0.25758297 0.26712586 0.26840326 0.2651221  0.27150908 0.26865373\n",
            " 0.27909831 0.28525986 0.29282405 0.28726362 0.29307451 0.27817157\n",
            " 0.28876644 0.29142142 0.2931747  0.24132749 0.20423294 0.18690044\n",
            " 0.16425798 0.23045711 0.20934252 0.22870382 0.19607882 0.20105815\n",
            " 0.20395516 0.20557202 0.20667008 0.20764756 0.20864129 0.20966569\n",
            " 0.21069746 0.21171162 0.2126915  0.21362875 0.21452039 0.2153668\n",
            " 0.2161694  0.21693073 0.21765308 0.21833877]\n",
            "18 day output [[0.21898982]]\n",
            "19 day input [0.35388854 0.36117721 0.36728867 0.35368817 0.35804634 0.36981841\n",
            " 0.37177207 0.37911083 0.38116468 0.37257358 0.36408265 0.3596243\n",
            " 0.34316844 0.34194114 0.34604884 0.33906074 0.34028804 0.32563557\n",
            " 0.31949906 0.3166938  0.32819036 0.30412023 0.3084283  0.29004383\n",
            " 0.29302442 0.29259862 0.29039449 0.30812774 0.32916719 0.33192235\n",
            " 0.32748904 0.32350657 0.30349405 0.31549155 0.314665   0.31654352\n",
            " 0.30254227 0.30259236 0.3150407  0.32568566 0.33735755 0.34504696\n",
            " 0.34472135 0.34572323 0.34812774 0.34742642 0.3513087  0.35115842\n",
            " 0.33442705 0.32676268 0.338134   0.32859111 0.32333125 0.32285535\n",
            " 0.32182843 0.33119599 0.30216656 0.28553538 0.27586725 0.25758297\n",
            " 0.26712586 0.26840326 0.2651221  0.27150908 0.26865373 0.27909831\n",
            " 0.28525986 0.29282405 0.28726362 0.29307451 0.27817157 0.28876644\n",
            " 0.29142142 0.2931747  0.24132749 0.20423294 0.18690044 0.16425798\n",
            " 0.23045711 0.20934252 0.22870382 0.19607882 0.20105815 0.20395516\n",
            " 0.20557202 0.20667008 0.20764756 0.20864129 0.20966569 0.21069746\n",
            " 0.21171162 0.2126915  0.21362875 0.21452039 0.2153668  0.2161694\n",
            " 0.21693073 0.21765308 0.21833877 0.21898982]\n",
            "19 day output [[0.21960776]]\n",
            "20 day input [0.36117721 0.36728867 0.35368817 0.35804634 0.36981841 0.37177207\n",
            " 0.37911083 0.38116468 0.37257358 0.36408265 0.3596243  0.34316844\n",
            " 0.34194114 0.34604884 0.33906074 0.34028804 0.32563557 0.31949906\n",
            " 0.3166938  0.32819036 0.30412023 0.3084283  0.29004383 0.29302442\n",
            " 0.29259862 0.29039449 0.30812774 0.32916719 0.33192235 0.32748904\n",
            " 0.32350657 0.30349405 0.31549155 0.314665   0.31654352 0.30254227\n",
            " 0.30259236 0.3150407  0.32568566 0.33735755 0.34504696 0.34472135\n",
            " 0.34572323 0.34812774 0.34742642 0.3513087  0.35115842 0.33442705\n",
            " 0.32676268 0.338134   0.32859111 0.32333125 0.32285535 0.32182843\n",
            " 0.33119599 0.30216656 0.28553538 0.27586725 0.25758297 0.26712586\n",
            " 0.26840326 0.2651221  0.27150908 0.26865373 0.27909831 0.28525986\n",
            " 0.29282405 0.28726362 0.29307451 0.27817157 0.28876644 0.29142142\n",
            " 0.2931747  0.24132749 0.20423294 0.18690044 0.16425798 0.23045711\n",
            " 0.20934252 0.22870382 0.19607882 0.20105815 0.20395516 0.20557202\n",
            " 0.20667008 0.20764756 0.20864129 0.20966569 0.21069746 0.21171162\n",
            " 0.2126915  0.21362875 0.21452039 0.2153668  0.2161694  0.21693073\n",
            " 0.21765308 0.21833877 0.21898982 0.21960776]\n",
            "20 day output [[0.220194]]\n",
            "21 day input [0.36728867 0.35368817 0.35804634 0.36981841 0.37177207 0.37911083\n",
            " 0.38116468 0.37257358 0.36408265 0.3596243  0.34316844 0.34194114\n",
            " 0.34604884 0.33906074 0.34028804 0.32563557 0.31949906 0.3166938\n",
            " 0.32819036 0.30412023 0.3084283  0.29004383 0.29302442 0.29259862\n",
            " 0.29039449 0.30812774 0.32916719 0.33192235 0.32748904 0.32350657\n",
            " 0.30349405 0.31549155 0.314665   0.31654352 0.30254227 0.30259236\n",
            " 0.3150407  0.32568566 0.33735755 0.34504696 0.34472135 0.34572323\n",
            " 0.34812774 0.34742642 0.3513087  0.35115842 0.33442705 0.32676268\n",
            " 0.338134   0.32859111 0.32333125 0.32285535 0.32182843 0.33119599\n",
            " 0.30216656 0.28553538 0.27586725 0.25758297 0.26712586 0.26840326\n",
            " 0.2651221  0.27150908 0.26865373 0.27909831 0.28525986 0.29282405\n",
            " 0.28726362 0.29307451 0.27817157 0.28876644 0.29142142 0.2931747\n",
            " 0.24132749 0.20423294 0.18690044 0.16425798 0.23045711 0.20934252\n",
            " 0.22870382 0.19607882 0.20105815 0.20395516 0.20557202 0.20667008\n",
            " 0.20764756 0.20864129 0.20966569 0.21069746 0.21171162 0.2126915\n",
            " 0.21362875 0.21452039 0.2153668  0.2161694  0.21693073 0.21765308\n",
            " 0.21833877 0.21898982 0.21960776 0.220194  ]\n",
            "21 day output [[0.22074972]]\n",
            "22 day input [0.35368817 0.35804634 0.36981841 0.37177207 0.37911083 0.38116468\n",
            " 0.37257358 0.36408265 0.3596243  0.34316844 0.34194114 0.34604884\n",
            " 0.33906074 0.34028804 0.32563557 0.31949906 0.3166938  0.32819036\n",
            " 0.30412023 0.3084283  0.29004383 0.29302442 0.29259862 0.29039449\n",
            " 0.30812774 0.32916719 0.33192235 0.32748904 0.32350657 0.30349405\n",
            " 0.31549155 0.314665   0.31654352 0.30254227 0.30259236 0.3150407\n",
            " 0.32568566 0.33735755 0.34504696 0.34472135 0.34572323 0.34812774\n",
            " 0.34742642 0.3513087  0.35115842 0.33442705 0.32676268 0.338134\n",
            " 0.32859111 0.32333125 0.32285535 0.32182843 0.33119599 0.30216656\n",
            " 0.28553538 0.27586725 0.25758297 0.26712586 0.26840326 0.2651221\n",
            " 0.27150908 0.26865373 0.27909831 0.28525986 0.29282405 0.28726362\n",
            " 0.29307451 0.27817157 0.28876644 0.29142142 0.2931747  0.24132749\n",
            " 0.20423294 0.18690044 0.16425798 0.23045711 0.20934252 0.22870382\n",
            " 0.19607882 0.20105815 0.20395516 0.20557202 0.20667008 0.20764756\n",
            " 0.20864129 0.20966569 0.21069746 0.21171162 0.2126915  0.21362875\n",
            " 0.21452039 0.2153668  0.2161694  0.21693073 0.21765308 0.21833877\n",
            " 0.21898982 0.21960776 0.220194   0.22074972]\n",
            "22 day output [[0.22127573]]\n",
            "23 day input [0.35804634 0.36981841 0.37177207 0.37911083 0.38116468 0.37257358\n",
            " 0.36408265 0.3596243  0.34316844 0.34194114 0.34604884 0.33906074\n",
            " 0.34028804 0.32563557 0.31949906 0.3166938  0.32819036 0.30412023\n",
            " 0.3084283  0.29004383 0.29302442 0.29259862 0.29039449 0.30812774\n",
            " 0.32916719 0.33192235 0.32748904 0.32350657 0.30349405 0.31549155\n",
            " 0.314665   0.31654352 0.30254227 0.30259236 0.3150407  0.32568566\n",
            " 0.33735755 0.34504696 0.34472135 0.34572323 0.34812774 0.34742642\n",
            " 0.3513087  0.35115842 0.33442705 0.32676268 0.338134   0.32859111\n",
            " 0.32333125 0.32285535 0.32182843 0.33119599 0.30216656 0.28553538\n",
            " 0.27586725 0.25758297 0.26712586 0.26840326 0.2651221  0.27150908\n",
            " 0.26865373 0.27909831 0.28525986 0.29282405 0.28726362 0.29307451\n",
            " 0.27817157 0.28876644 0.29142142 0.2931747  0.24132749 0.20423294\n",
            " 0.18690044 0.16425798 0.23045711 0.20934252 0.22870382 0.19607882\n",
            " 0.20105815 0.20395516 0.20557202 0.20667008 0.20764756 0.20864129\n",
            " 0.20966569 0.21069746 0.21171162 0.2126915  0.21362875 0.21452039\n",
            " 0.2153668  0.2161694  0.21693073 0.21765308 0.21833877 0.21898982\n",
            " 0.21960776 0.220194   0.22074972 0.22127573]\n",
            "23 day output [[0.221773]]\n",
            "24 day input [0.36981841 0.37177207 0.37911083 0.38116468 0.37257358 0.36408265\n",
            " 0.3596243  0.34316844 0.34194114 0.34604884 0.33906074 0.34028804\n",
            " 0.32563557 0.31949906 0.3166938  0.32819036 0.30412023 0.3084283\n",
            " 0.29004383 0.29302442 0.29259862 0.29039449 0.30812774 0.32916719\n",
            " 0.33192235 0.32748904 0.32350657 0.30349405 0.31549155 0.314665\n",
            " 0.31654352 0.30254227 0.30259236 0.3150407  0.32568566 0.33735755\n",
            " 0.34504696 0.34472135 0.34572323 0.34812774 0.34742642 0.3513087\n",
            " 0.35115842 0.33442705 0.32676268 0.338134   0.32859111 0.32333125\n",
            " 0.32285535 0.32182843 0.33119599 0.30216656 0.28553538 0.27586725\n",
            " 0.25758297 0.26712586 0.26840326 0.2651221  0.27150908 0.26865373\n",
            " 0.27909831 0.28525986 0.29282405 0.28726362 0.29307451 0.27817157\n",
            " 0.28876644 0.29142142 0.2931747  0.24132749 0.20423294 0.18690044\n",
            " 0.16425798 0.23045711 0.20934252 0.22870382 0.19607882 0.20105815\n",
            " 0.20395516 0.20557202 0.20667008 0.20764756 0.20864129 0.20966569\n",
            " 0.21069746 0.21171162 0.2126915  0.21362875 0.21452039 0.2153668\n",
            " 0.2161694  0.21693073 0.21765308 0.21833877 0.21898982 0.21960776\n",
            " 0.220194   0.22074972 0.22127573 0.221773  ]\n",
            "24 day output [[0.22224216]]\n",
            "25 day input [0.37177207 0.37911083 0.38116468 0.37257358 0.36408265 0.3596243\n",
            " 0.34316844 0.34194114 0.34604884 0.33906074 0.34028804 0.32563557\n",
            " 0.31949906 0.3166938  0.32819036 0.30412023 0.3084283  0.29004383\n",
            " 0.29302442 0.29259862 0.29039449 0.30812774 0.32916719 0.33192235\n",
            " 0.32748904 0.32350657 0.30349405 0.31549155 0.314665   0.31654352\n",
            " 0.30254227 0.30259236 0.3150407  0.32568566 0.33735755 0.34504696\n",
            " 0.34472135 0.34572323 0.34812774 0.34742642 0.3513087  0.35115842\n",
            " 0.33442705 0.32676268 0.338134   0.32859111 0.32333125 0.32285535\n",
            " 0.32182843 0.33119599 0.30216656 0.28553538 0.27586725 0.25758297\n",
            " 0.26712586 0.26840326 0.2651221  0.27150908 0.26865373 0.27909831\n",
            " 0.28525986 0.29282405 0.28726362 0.29307451 0.27817157 0.28876644\n",
            " 0.29142142 0.2931747  0.24132749 0.20423294 0.18690044 0.16425798\n",
            " 0.23045711 0.20934252 0.22870382 0.19607882 0.20105815 0.20395516\n",
            " 0.20557202 0.20667008 0.20764756 0.20864129 0.20966569 0.21069746\n",
            " 0.21171162 0.2126915  0.21362875 0.21452039 0.2153668  0.2161694\n",
            " 0.21693073 0.21765308 0.21833877 0.21898982 0.21960776 0.220194\n",
            " 0.22074972 0.22127573 0.221773   0.22224216]\n",
            "25 day output [[0.22268397]]\n",
            "26 day input [0.37911083 0.38116468 0.37257358 0.36408265 0.3596243  0.34316844\n",
            " 0.34194114 0.34604884 0.33906074 0.34028804 0.32563557 0.31949906\n",
            " 0.3166938  0.32819036 0.30412023 0.3084283  0.29004383 0.29302442\n",
            " 0.29259862 0.29039449 0.30812774 0.32916719 0.33192235 0.32748904\n",
            " 0.32350657 0.30349405 0.31549155 0.314665   0.31654352 0.30254227\n",
            " 0.30259236 0.3150407  0.32568566 0.33735755 0.34504696 0.34472135\n",
            " 0.34572323 0.34812774 0.34742642 0.3513087  0.35115842 0.33442705\n",
            " 0.32676268 0.338134   0.32859111 0.32333125 0.32285535 0.32182843\n",
            " 0.33119599 0.30216656 0.28553538 0.27586725 0.25758297 0.26712586\n",
            " 0.26840326 0.2651221  0.27150908 0.26865373 0.27909831 0.28525986\n",
            " 0.29282405 0.28726362 0.29307451 0.27817157 0.28876644 0.29142142\n",
            " 0.2931747  0.24132749 0.20423294 0.18690044 0.16425798 0.23045711\n",
            " 0.20934252 0.22870382 0.19607882 0.20105815 0.20395516 0.20557202\n",
            " 0.20667008 0.20764756 0.20864129 0.20966569 0.21069746 0.21171162\n",
            " 0.2126915  0.21362875 0.21452039 0.2153668  0.2161694  0.21693073\n",
            " 0.21765308 0.21833877 0.21898982 0.21960776 0.220194   0.22074972\n",
            " 0.22127573 0.221773   0.22224216 0.22268397]\n",
            "26 day output [[0.22309934]]\n",
            "27 day input [0.38116468 0.37257358 0.36408265 0.3596243  0.34316844 0.34194114\n",
            " 0.34604884 0.33906074 0.34028804 0.32563557 0.31949906 0.3166938\n",
            " 0.32819036 0.30412023 0.3084283  0.29004383 0.29302442 0.29259862\n",
            " 0.29039449 0.30812774 0.32916719 0.33192235 0.32748904 0.32350657\n",
            " 0.30349405 0.31549155 0.314665   0.31654352 0.30254227 0.30259236\n",
            " 0.3150407  0.32568566 0.33735755 0.34504696 0.34472135 0.34572323\n",
            " 0.34812774 0.34742642 0.3513087  0.35115842 0.33442705 0.32676268\n",
            " 0.338134   0.32859111 0.32333125 0.32285535 0.32182843 0.33119599\n",
            " 0.30216656 0.28553538 0.27586725 0.25758297 0.26712586 0.26840326\n",
            " 0.2651221  0.27150908 0.26865373 0.27909831 0.28525986 0.29282405\n",
            " 0.28726362 0.29307451 0.27817157 0.28876644 0.29142142 0.2931747\n",
            " 0.24132749 0.20423294 0.18690044 0.16425798 0.23045711 0.20934252\n",
            " 0.22870382 0.19607882 0.20105815 0.20395516 0.20557202 0.20667008\n",
            " 0.20764756 0.20864129 0.20966569 0.21069746 0.21171162 0.2126915\n",
            " 0.21362875 0.21452039 0.2153668  0.2161694  0.21693073 0.21765308\n",
            " 0.21833877 0.21898982 0.21960776 0.220194   0.22074972 0.22127573\n",
            " 0.221773   0.22224216 0.22268397 0.22309934]\n",
            "27 day output [[0.22348888]]\n",
            "28 day input [0.37257358 0.36408265 0.3596243  0.34316844 0.34194114 0.34604884\n",
            " 0.33906074 0.34028804 0.32563557 0.31949906 0.3166938  0.32819036\n",
            " 0.30412023 0.3084283  0.29004383 0.29302442 0.29259862 0.29039449\n",
            " 0.30812774 0.32916719 0.33192235 0.32748904 0.32350657 0.30349405\n",
            " 0.31549155 0.314665   0.31654352 0.30254227 0.30259236 0.3150407\n",
            " 0.32568566 0.33735755 0.34504696 0.34472135 0.34572323 0.34812774\n",
            " 0.34742642 0.3513087  0.35115842 0.33442705 0.32676268 0.338134\n",
            " 0.32859111 0.32333125 0.32285535 0.32182843 0.33119599 0.30216656\n",
            " 0.28553538 0.27586725 0.25758297 0.26712586 0.26840326 0.2651221\n",
            " 0.27150908 0.26865373 0.27909831 0.28525986 0.29282405 0.28726362\n",
            " 0.29307451 0.27817157 0.28876644 0.29142142 0.2931747  0.24132749\n",
            " 0.20423294 0.18690044 0.16425798 0.23045711 0.20934252 0.22870382\n",
            " 0.19607882 0.20105815 0.20395516 0.20557202 0.20667008 0.20764756\n",
            " 0.20864129 0.20966569 0.21069746 0.21171162 0.2126915  0.21362875\n",
            " 0.21452039 0.2153668  0.2161694  0.21693073 0.21765308 0.21833877\n",
            " 0.21898982 0.21960776 0.220194   0.22074972 0.22127573 0.221773\n",
            " 0.22224216 0.22268397 0.22309934 0.22348888]\n",
            "28 day output [[0.22385368]]\n",
            "29 day input [0.36408265 0.3596243  0.34316844 0.34194114 0.34604884 0.33906074\n",
            " 0.34028804 0.32563557 0.31949906 0.3166938  0.32819036 0.30412023\n",
            " 0.3084283  0.29004383 0.29302442 0.29259862 0.29039449 0.30812774\n",
            " 0.32916719 0.33192235 0.32748904 0.32350657 0.30349405 0.31549155\n",
            " 0.314665   0.31654352 0.30254227 0.30259236 0.3150407  0.32568566\n",
            " 0.33735755 0.34504696 0.34472135 0.34572323 0.34812774 0.34742642\n",
            " 0.3513087  0.35115842 0.33442705 0.32676268 0.338134   0.32859111\n",
            " 0.32333125 0.32285535 0.32182843 0.33119599 0.30216656 0.28553538\n",
            " 0.27586725 0.25758297 0.26712586 0.26840326 0.2651221  0.27150908\n",
            " 0.26865373 0.27909831 0.28525986 0.29282405 0.28726362 0.29307451\n",
            " 0.27817157 0.28876644 0.29142142 0.2931747  0.24132749 0.20423294\n",
            " 0.18690044 0.16425798 0.23045711 0.20934252 0.22870382 0.19607882\n",
            " 0.20105815 0.20395516 0.20557202 0.20667008 0.20764756 0.20864129\n",
            " 0.20966569 0.21069746 0.21171162 0.2126915  0.21362875 0.21452039\n",
            " 0.2153668  0.2161694  0.21693073 0.21765308 0.21833877 0.21898982\n",
            " 0.21960776 0.220194   0.22074972 0.22127573 0.221773   0.22224216\n",
            " 0.22268397 0.22309934 0.22348888 0.22385368]\n",
            "29 day output [[0.22419453]]\n",
            "[[0.196078822016716], [0.20105814933776855], [0.20395515859127045], [0.20557202398777008], [0.20667007565498352], [0.20764756202697754], [0.20864129066467285], [0.2096656858921051], [0.2106974571943283], [0.21171161532402039], [0.2126915007829666], [0.21362875401973724], [0.2145203948020935], [0.21536679565906525], [0.21616940200328827], [0.21693073213100433], [0.2176530808210373], [0.2183387726545334], [0.21898981928825378], [0.21960775554180145], [0.2201939970254898], [0.22074972093105316], [0.22127573192119598], [0.22177299857139587], [0.22224216163158417], [0.22268396615982056], [0.22309933602809906], [0.22348888218402863], [0.2238536775112152], [0.22419452667236328]]\n"
          ]
        }
      ]
    },
    {
      "cell_type": "code",
      "source": [
        "day_new=np.arange(1,101)\n",
        "day_pred=np.arange(101,131)"
      ],
      "metadata": {
        "id": "ChudQeqfvfN0"
      },
      "execution_count": 51,
      "outputs": []
    },
    {
      "cell_type": "code",
      "source": [
        "import matplotlib.pyplot as plt"
      ],
      "metadata": {
        "id": "TOt--ZDYv4iC"
      },
      "execution_count": 52,
      "outputs": []
    },
    {
      "cell_type": "code",
      "source": [
        "len(df1)"
      ],
      "metadata": {
        "colab": {
          "base_uri": "https://localhost:8080/"
        },
        "id": "dU0iZAUEv-BA",
        "outputId": "3c52d162-ca81-4b43-e9c2-c7b5fc3c4efb"
      },
      "execution_count": 53,
      "outputs": [
        {
          "output_type": "execute_result",
          "data": {
            "text/plain": [
              "1257"
            ]
          },
          "metadata": {},
          "execution_count": 53
        }
      ]
    },
    {
      "cell_type": "code",
      "source": [
        "df3=df1.tolist()\n",
        "df3.extend(lst_output)"
      ],
      "metadata": {
        "id": "hZPYYgF2wEFR"
      },
      "execution_count": 54,
      "outputs": []
    },
    {
      "cell_type": "code",
      "source": [
        "plt.plot(day_new,scaler.inverse_transform(df1[1157:]))\n",
        "plt.plot(day_pred,scaler.inverse_transform(lst_output))"
      ],
      "metadata": {
        "colab": {
          "base_uri": "https://localhost:8080/",
          "height": 447
        },
        "id": "MhERG1oCwKMf",
        "outputId": "14f58e8a-d752-4405-dad0-9289afe04478"
      },
      "execution_count": 56,
      "outputs": [
        {
          "output_type": "execute_result",
          "data": {
            "text/plain": [
              "[<matplotlib.lines.Line2D at 0x78cc924a8210>]"
            ]
          },
          "metadata": {},
          "execution_count": 56
        },
        {
          "output_type": "display_data",
          "data": {
            "text/plain": [
              "<Figure size 640x480 with 1 Axes>"
            ],
            "image/png": "[encoded data removed]"
          },
          "metadata": {}
        }
      ]
    },
    {
      "cell_type": "code",
      "source": [
        "df3=df1.tolist()\n",
        "df3.extend(lst_output)\n",
        "plt.plot(df3[1000:])"
      ],
      "metadata": {
        "colab": {
          "base_uri": "https://localhost:8080/",
          "height": 447
        },
        "id": "Ivk8x8rJwbax",
        "outputId": "52ccbc12-a201-4363-dfb7-18af56b69b7f"
      },
      "execution_count": 58,
      "outputs": [
        {
          "output_type": "execute_result",
          "data": {
            "text/plain": [
              "[<matplotlib.lines.Line2D at 0x78cc92905ad0>]"
            ]
          },
          "metadata": {},
          "execution_count": 58
        },
        {
          "output_type": "display_data",
          "data": {
            "text/plain": [
              "<Figure size 640x480 with 1 Axes>"
            ],
            "image/png": "[encoded data removed]"
          },
          "metadata": {}
        }
      ]
    },
    {
      "cell_type": "code",
      "source": [],
      "metadata": {
        "id": "B5VYtGMbwy0Q"
      },
      "execution_count": null,
      "outputs": []
    }
  ]
}